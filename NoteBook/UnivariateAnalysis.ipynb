{
 "cells": [
  {
   "cell_type": "markdown",
   "id": "2bb8ae50",
   "metadata": {},
   "source": [
    "## Univariate Analysis\n",
    "\n",
    "#### Data Preprocessing"
   ]
  },
  {
   "cell_type": "code",
   "execution_count": 39,
   "id": "11615392-be62-47f4-8edb-4058dc45794a",
   "metadata": {},
   "outputs": [],
   "source": [
    "#this is where we perform the univariate analysis\n",
    "import pandas as pandafordata\n",
    "import matplotlib.pyplot as mplforplotting\n",
    "import seaborn as seabornforvis"
   ]
  },
  {
   "cell_type": "code",
   "execution_count": 40,
   "id": "c42f346a-8621-43f0-9b88-9f8f9956899a",
   "metadata": {},
   "outputs": [
    {
     "data": {
      "text/html": [
       "<div>\n",
       "<style scoped>\n",
       "    .dataframe tbody tr th:only-of-type {\n",
       "        vertical-align: middle;\n",
       "    }\n",
       "\n",
       "    .dataframe tbody tr th {\n",
       "        vertical-align: top;\n",
       "    }\n",
       "\n",
       "    .dataframe thead th {\n",
       "        text-align: right;\n",
       "    }\n",
       "</style>\n",
       "<table border=\"1\" class=\"dataframe\">\n",
       "  <thead>\n",
       "    <tr style=\"text-align: right;\">\n",
       "      <th></th>\n",
       "      <th>StudyTimeWeekly</th>\n",
       "      <th>Absences</th>\n",
       "      <th>Tutoring</th>\n",
       "      <th>ParentalSupport</th>\n",
       "      <th>Extracurricular</th>\n",
       "      <th>Sports</th>\n",
       "      <th>Music</th>\n",
       "      <th>Volunteering</th>\n",
       "      <th>GradeClass</th>\n",
       "    </tr>\n",
       "  </thead>\n",
       "  <tbody>\n",
       "    <tr>\n",
       "      <th>0</th>\n",
       "      <td>15.408756</td>\n",
       "      <td>0</td>\n",
       "      <td>0</td>\n",
       "      <td>1</td>\n",
       "      <td>0</td>\n",
       "      <td>0</td>\n",
       "      <td>0</td>\n",
       "      <td>0</td>\n",
       "      <td>1</td>\n",
       "    </tr>\n",
       "    <tr>\n",
       "      <th>1</th>\n",
       "      <td>4.210570</td>\n",
       "      <td>26</td>\n",
       "      <td>0</td>\n",
       "      <td>2</td>\n",
       "      <td>0</td>\n",
       "      <td>0</td>\n",
       "      <td>0</td>\n",
       "      <td>0</td>\n",
       "      <td>4</td>\n",
       "    </tr>\n",
       "    <tr>\n",
       "      <th>2</th>\n",
       "      <td>10.028829</td>\n",
       "      <td>14</td>\n",
       "      <td>0</td>\n",
       "      <td>3</td>\n",
       "      <td>1</td>\n",
       "      <td>0</td>\n",
       "      <td>0</td>\n",
       "      <td>0</td>\n",
       "      <td>3</td>\n",
       "    </tr>\n",
       "    <tr>\n",
       "      <th>3</th>\n",
       "      <td>4.672495</td>\n",
       "      <td>17</td>\n",
       "      <td>1</td>\n",
       "      <td>3</td>\n",
       "      <td>0</td>\n",
       "      <td>0</td>\n",
       "      <td>0</td>\n",
       "      <td>0</td>\n",
       "      <td>4</td>\n",
       "    </tr>\n",
       "    <tr>\n",
       "      <th>4</th>\n",
       "      <td>8.191219</td>\n",
       "      <td>0</td>\n",
       "      <td>0</td>\n",
       "      <td>1</td>\n",
       "      <td>1</td>\n",
       "      <td>0</td>\n",
       "      <td>0</td>\n",
       "      <td>0</td>\n",
       "      <td>1</td>\n",
       "    </tr>\n",
       "  </tbody>\n",
       "</table>\n",
       "</div>"
      ],
      "text/plain": [
       "   StudyTimeWeekly  Absences  Tutoring  ParentalSupport  Extracurricular  \\\n",
       "0        15.408756         0         0                1                0   \n",
       "1         4.210570        26         0                2                0   \n",
       "2        10.028829        14         0                3                1   \n",
       "3         4.672495        17         1                3                0   \n",
       "4         8.191219         0         0                1                1   \n",
       "\n",
       "   Sports  Music  Volunteering  GradeClass  \n",
       "0       0      0             0           1  \n",
       "1       0      0             0           4  \n",
       "2       0      0             0           3  \n",
       "3       0      0             0           4  \n",
       "4       0      0             0           1  "
      ]
     },
     "execution_count": 40,
     "metadata": {},
     "output_type": "execute_result"
    }
   ],
   "source": [
    "df = pandafordata.read_csv(r\"D:\\Downloads\\Cleaned_Student_Performance_data.csv\")\n",
    "df.head() #here is where we start off by importing the dataset and getting a quick glance at our data"
   ]
  },
  {
   "cell_type": "markdown",
   "id": "1ffdcc75",
   "metadata": {},
   "source": [
    "#### Data Overview"
   ]
  },
  {
   "cell_type": "code",
   "execution_count": 41,
   "id": "2027d21d-3b56-4a49-9ef7-c637db48f3ab",
   "metadata": {},
   "outputs": [
    {
     "data": {
      "text/html": [
       "<div>\n",
       "<style scoped>\n",
       "    .dataframe tbody tr th:only-of-type {\n",
       "        vertical-align: middle;\n",
       "    }\n",
       "\n",
       "    .dataframe tbody tr th {\n",
       "        vertical-align: top;\n",
       "    }\n",
       "\n",
       "    .dataframe thead th {\n",
       "        text-align: right;\n",
       "    }\n",
       "</style>\n",
       "<table border=\"1\" class=\"dataframe\">\n",
       "  <thead>\n",
       "    <tr style=\"text-align: right;\">\n",
       "      <th></th>\n",
       "      <th>StudyTimeWeekly</th>\n",
       "      <th>Absences</th>\n",
       "      <th>Tutoring</th>\n",
       "      <th>ParentalSupport</th>\n",
       "      <th>Extracurricular</th>\n",
       "      <th>Sports</th>\n",
       "      <th>Music</th>\n",
       "      <th>Volunteering</th>\n",
       "      <th>GradeClass</th>\n",
       "    </tr>\n",
       "  </thead>\n",
       "  <tbody>\n",
       "    <tr>\n",
       "      <th>count</th>\n",
       "      <td>1625.000000</td>\n",
       "      <td>1625.000000</td>\n",
       "      <td>1625.000000</td>\n",
       "      <td>1625.000000</td>\n",
       "      <td>1625.000000</td>\n",
       "      <td>1625.000000</td>\n",
       "      <td>1625.0</td>\n",
       "      <td>1625.0</td>\n",
       "      <td>1625.000000</td>\n",
       "    </tr>\n",
       "    <tr>\n",
       "      <th>mean</th>\n",
       "      <td>9.821508</td>\n",
       "      <td>14.611692</td>\n",
       "      <td>0.316308</td>\n",
       "      <td>2.104000</td>\n",
       "      <td>0.388308</td>\n",
       "      <td>0.310769</td>\n",
       "      <td>0.0</td>\n",
       "      <td>0.0</td>\n",
       "      <td>3.089846</td>\n",
       "    </tr>\n",
       "    <tr>\n",
       "      <th>std</th>\n",
       "      <td>5.690213</td>\n",
       "      <td>8.535711</td>\n",
       "      <td>0.465178</td>\n",
       "      <td>1.133194</td>\n",
       "      <td>0.487515</td>\n",
       "      <td>0.462951</td>\n",
       "      <td>0.0</td>\n",
       "      <td>0.0</td>\n",
       "      <td>1.161493</td>\n",
       "    </tr>\n",
       "    <tr>\n",
       "      <th>min</th>\n",
       "      <td>0.001057</td>\n",
       "      <td>0.000000</td>\n",
       "      <td>0.000000</td>\n",
       "      <td>0.000000</td>\n",
       "      <td>0.000000</td>\n",
       "      <td>0.000000</td>\n",
       "      <td>0.0</td>\n",
       "      <td>0.0</td>\n",
       "      <td>0.000000</td>\n",
       "    </tr>\n",
       "    <tr>\n",
       "      <th>25%</th>\n",
       "      <td>5.044463</td>\n",
       "      <td>7.000000</td>\n",
       "      <td>0.000000</td>\n",
       "      <td>1.000000</td>\n",
       "      <td>0.000000</td>\n",
       "      <td>0.000000</td>\n",
       "      <td>0.0</td>\n",
       "      <td>0.0</td>\n",
       "      <td>2.000000</td>\n",
       "    </tr>\n",
       "    <tr>\n",
       "      <th>50%</th>\n",
       "      <td>9.757532</td>\n",
       "      <td>15.000000</td>\n",
       "      <td>0.000000</td>\n",
       "      <td>2.000000</td>\n",
       "      <td>0.000000</td>\n",
       "      <td>0.000000</td>\n",
       "      <td>0.0</td>\n",
       "      <td>0.0</td>\n",
       "      <td>4.000000</td>\n",
       "    </tr>\n",
       "    <tr>\n",
       "      <th>75%</th>\n",
       "      <td>14.498205</td>\n",
       "      <td>22.000000</td>\n",
       "      <td>1.000000</td>\n",
       "      <td>3.000000</td>\n",
       "      <td>1.000000</td>\n",
       "      <td>1.000000</td>\n",
       "      <td>0.0</td>\n",
       "      <td>0.0</td>\n",
       "      <td>4.000000</td>\n",
       "    </tr>\n",
       "    <tr>\n",
       "      <th>max</th>\n",
       "      <td>19.978094</td>\n",
       "      <td>29.000000</td>\n",
       "      <td>1.000000</td>\n",
       "      <td>4.000000</td>\n",
       "      <td>1.000000</td>\n",
       "      <td>1.000000</td>\n",
       "      <td>0.0</td>\n",
       "      <td>0.0</td>\n",
       "      <td>4.000000</td>\n",
       "    </tr>\n",
       "  </tbody>\n",
       "</table>\n",
       "</div>"
      ],
      "text/plain": [
       "       StudyTimeWeekly     Absences     Tutoring  ParentalSupport  \\\n",
       "count      1625.000000  1625.000000  1625.000000      1625.000000   \n",
       "mean          9.821508    14.611692     0.316308         2.104000   \n",
       "std           5.690213     8.535711     0.465178         1.133194   \n",
       "min           0.001057     0.000000     0.000000         0.000000   \n",
       "25%           5.044463     7.000000     0.000000         1.000000   \n",
       "50%           9.757532    15.000000     0.000000         2.000000   \n",
       "75%          14.498205    22.000000     1.000000         3.000000   \n",
       "max          19.978094    29.000000     1.000000         4.000000   \n",
       "\n",
       "       Extracurricular       Sports   Music  Volunteering   GradeClass  \n",
       "count      1625.000000  1625.000000  1625.0        1625.0  1625.000000  \n",
       "mean          0.388308     0.310769     0.0           0.0     3.089846  \n",
       "std           0.487515     0.462951     0.0           0.0     1.161493  \n",
       "min           0.000000     0.000000     0.0           0.0     0.000000  \n",
       "25%           0.000000     0.000000     0.0           0.0     2.000000  \n",
       "50%           0.000000     0.000000     0.0           0.0     4.000000  \n",
       "75%           1.000000     1.000000     0.0           0.0     4.000000  \n",
       "max           1.000000     1.000000     0.0           0.0     4.000000  "
      ]
     },
     "execution_count": 41,
     "metadata": {},
     "output_type": "execute_result"
    }
   ],
   "source": [
    "df.describe()#this is to describe the data and provide us with a broad overview of what we are dealing with. For this EDA univariate analysis, we will be focusing on GPA.\n"
   ]
  },
  {
   "cell_type": "code",
   "execution_count": 42,
   "id": "27066776-f716-45f8-83bc-0814642f639c",
   "metadata": {},
   "outputs": [
    {
     "name": "stdout",
     "output_type": "stream",
     "text": [
      "<class 'pandas.core.frame.DataFrame'>\n",
      "RangeIndex: 1625 entries, 0 to 1624\n",
      "Data columns (total 9 columns):\n",
      " #   Column           Non-Null Count  Dtype  \n",
      "---  ------           --------------  -----  \n",
      " 0   StudyTimeWeekly  1625 non-null   float64\n",
      " 1   Absences         1625 non-null   int64  \n",
      " 2   Tutoring         1625 non-null   int64  \n",
      " 3   ParentalSupport  1625 non-null   int64  \n",
      " 4   Extracurricular  1625 non-null   int64  \n",
      " 5   Sports           1625 non-null   int64  \n",
      " 6   Music            1625 non-null   int64  \n",
      " 7   Volunteering     1625 non-null   int64  \n",
      " 8   GradeClass       1625 non-null   int64  \n",
      "dtypes: float64(1), int64(8)\n",
      "memory usage: 114.4 KB\n"
     ]
    }
   ],
   "source": [
    "df.dtypes # this gives us insight into the data types present in our dataset\n",
    "df.info() # this gives more info as well as a count of null values"
   ]
  },
  {
   "cell_type": "markdown",
   "id": "682f2137",
   "metadata": {},
   "source": [
    "#### Boxplot"
   ]
  },
  {
   "cell_type": "code",
   "execution_count": 43,
   "id": "8b743763",
   "metadata": {},
   "outputs": [
    {
     "data": {
      "image/png": "[encoded data removed]",
      "text/plain": [
       "<Figure size 640x480 with 1 Axes>"
      ]
     },
     "metadata": {},
     "output_type": "display_data"
    }
   ],
   "source": [
    "seabornforvis.boxplot(x=df['GradeClass'])\n",
    "mplforplotting.title('Boxplot of Grade Class')\n",
    "mplforplotting.show()\n",
    "#this visualisation is to help us see the spread of data points within the range"
   ]
  },
  {
   "cell_type": "code",
   "execution_count": 44,
   "id": "628b1e01",
   "metadata": {},
   "outputs": [
    {
     "name": "stdout",
     "output_type": "stream",
     "text": [
      "Empty DataFrame\n",
      "Columns: [StudyTimeWeekly, Absences, Tutoring, ParentalSupport, Extracurricular, Sports, Music, Volunteering, GradeClass]\n",
      "Index: []\n"
     ]
    }
   ],
   "source": [
    "def detect_outliers_iqr(data, column= 'GradeClass'):\n",
    "    Q1 = data[column].quantile(0.25)\n",
    "    Q3 = data[column].quantile(0.75)\n",
    "    IQR = Q3 - Q1\n",
    "    lower_bound = Q1 - 1.5 * IQR\n",
    "    upper_bound = Q3 + 1.5 * IQR\n",
    "    return data[(data[column] < lower_bound) | (data[column] > upper_bound)]\n",
    "\n",
    "outliers = detect_outliers_iqr(df, 'GradeClass')\n",
    "print(outliers)\n",
    "# the output below shows us the absence of outliers."
   ]
  },
  {
   "cell_type": "markdown",
   "id": "b8d5d684",
   "metadata": {},
   "source": [
    "#### Histogram"
   ]
  },
  {
   "cell_type": "code",
   "execution_count": 45,
   "id": "7fb37873",
   "metadata": {},
   "outputs": [
    {
     "data": {
      "image/png": "[encoded data removed]",
      "text/plain": [
       "<Figure size 640x480 with 1 Axes>"
      ]
     },
     "metadata": {},
     "output_type": "display_data"
    },
    {
     "name": "stdout",
     "output_type": "stream",
     "text": [
      "count    1625.000000\n",
      "mean        3.089846\n",
      "std         1.161493\n",
      "min         0.000000\n",
      "25%         2.000000\n",
      "50%         4.000000\n",
      "75%         4.000000\n",
      "max         4.000000\n",
      "Name: GradeClass, dtype: float64\n"
     ]
    }
   ],
   "source": [
    "seabornforvis.histplot(df['GradeClass'], kde=True)\n",
    "mplforplotting.title('Distribution of Grade class')\n",
    "mplforplotting.show()\n",
    "#this visualisation is to help show the spread of students within the grade classes\n",
    "\n",
    "print(df['GradeClass'].describe())# this allows us to hone in on the target variable"
   ]
  }
 ],
 "metadata": {
  "kernelspec": {
   "display_name": "Python 3",
   "language": "python",
   "name": "python3"
  },
  "language_info": {
   "codemirror_mode": {
    "name": "ipython",
    "version": 3
   },
   "file_extension": ".py",
   "mimetype": "text/x-python",
   "name": "python",
   "nbconvert_exporter": "python",
   "pygments_lexer": "ipython3",
   "version": "3.13.3"
  }
 },
 "nbformat": 4,
 "nbformat_minor": 5
}
