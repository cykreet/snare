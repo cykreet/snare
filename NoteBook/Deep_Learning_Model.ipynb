{
 "cells": [
  {
   "cell_type": "markdown",
   "id": "b4542366",
   "metadata": {},
   "source": [
    "### **Import libraries:**"
   ]
  },
  {
   "cell_type": "code",
   "execution_count": 1,
   "id": "9d0c8708",
   "metadata": {},
   "outputs": [],
   "source": [
    "import pandas as pd\n",
    "import matplotlib.pyplot as plt\n",
    "import numpy as np\n",
    "import seaborn as sns\n",
    "import tensorflow as tf\n",
    "from tensorflow.keras import layers, models\n",
    "from sklearn.model_selection import train_test_split\n",
    "from sklearn.preprocessing import StandardScaler\n",
    "from sklearn.metrics import classification_report\n",
    "from sklearn.metrics import confusion_matrix,ConfusionMatrixDisplay\n"
   ]
  },
  {
   "cell_type": "markdown",
   "id": "ab8abfeb",
   "metadata": {},
   "source": [
    "### **Load Data:**"
   ]
  },
  {
   "cell_type": "code",
   "execution_count": 2,
   "id": "7914ea38",
   "metadata": {},
   "outputs": [
    {
     "data": {
      "text/html": [
       "<div>\n",
       "<style scoped>\n",
       "    .dataframe tbody tr th:only-of-type {\n",
       "        vertical-align: middle;\n",
       "    }\n",
       "\n",
       "    .dataframe tbody tr th {\n",
       "        vertical-align: top;\n",
       "    }\n",
       "\n",
       "    .dataframe thead th {\n",
       "        text-align: right;\n",
       "    }\n",
       "</style>\n",
       "<table border=\"1\" class=\"dataframe\">\n",
       "  <thead>\n",
       "    <tr style=\"text-align: right;\">\n",
       "      <th></th>\n",
       "      <th>StudyTimeWeekly</th>\n",
       "      <th>Absences</th>\n",
       "      <th>Tutoring</th>\n",
       "      <th>ParentalSupport</th>\n",
       "      <th>Extracurricular</th>\n",
       "      <th>Sports</th>\n",
       "      <th>Music</th>\n",
       "      <th>Volunteering</th>\n",
       "      <th>GradeClass</th>\n",
       "    </tr>\n",
       "  </thead>\n",
       "  <tbody>\n",
       "    <tr>\n",
       "      <th>0</th>\n",
       "      <td>15.408756</td>\n",
       "      <td>0</td>\n",
       "      <td>0</td>\n",
       "      <td>1</td>\n",
       "      <td>0</td>\n",
       "      <td>0</td>\n",
       "      <td>0</td>\n",
       "      <td>0</td>\n",
       "      <td>1</td>\n",
       "    </tr>\n",
       "    <tr>\n",
       "      <th>1</th>\n",
       "      <td>4.210570</td>\n",
       "      <td>26</td>\n",
       "      <td>0</td>\n",
       "      <td>2</td>\n",
       "      <td>0</td>\n",
       "      <td>0</td>\n",
       "      <td>0</td>\n",
       "      <td>0</td>\n",
       "      <td>4</td>\n",
       "    </tr>\n",
       "    <tr>\n",
       "      <th>2</th>\n",
       "      <td>10.028829</td>\n",
       "      <td>14</td>\n",
       "      <td>0</td>\n",
       "      <td>3</td>\n",
       "      <td>1</td>\n",
       "      <td>0</td>\n",
       "      <td>0</td>\n",
       "      <td>0</td>\n",
       "      <td>3</td>\n",
       "    </tr>\n",
       "    <tr>\n",
       "      <th>3</th>\n",
       "      <td>4.672495</td>\n",
       "      <td>17</td>\n",
       "      <td>1</td>\n",
       "      <td>3</td>\n",
       "      <td>0</td>\n",
       "      <td>0</td>\n",
       "      <td>0</td>\n",
       "      <td>0</td>\n",
       "      <td>4</td>\n",
       "    </tr>\n",
       "    <tr>\n",
       "      <th>4</th>\n",
       "      <td>8.191219</td>\n",
       "      <td>0</td>\n",
       "      <td>0</td>\n",
       "      <td>1</td>\n",
       "      <td>1</td>\n",
       "      <td>0</td>\n",
       "      <td>0</td>\n",
       "      <td>0</td>\n",
       "      <td>1</td>\n",
       "    </tr>\n",
       "  </tbody>\n",
       "</table>\n",
       "</div>"
      ],
      "text/plain": [
       "   StudyTimeWeekly  Absences  Tutoring  ParentalSupport  Extracurricular  \\\n",
       "0        15.408756         0         0                1                0   \n",
       "1         4.210570        26         0                2                0   \n",
       "2        10.028829        14         0                3                1   \n",
       "3         4.672495        17         1                3                0   \n",
       "4         8.191219         0         0                1                1   \n",
       "\n",
       "   Sports  Music  Volunteering  GradeClass  \n",
       "0       0      0             0           1  \n",
       "1       0      0             0           4  \n",
       "2       0      0             0           3  \n",
       "3       0      0             0           4  \n",
       "4       0      0             0           1  "
      ]
     },
     "execution_count": 2,
     "metadata": {},
     "output_type": "execute_result"
    }
   ],
   "source": [
    "df_cf = pd.read_csv('Cleaned_Student_Performance_data.csv')\n",
    "df_cf.head()\n",
    "\n"
   ]
  },
  {
   "cell_type": "markdown",
   "id": "d4804bc8",
   "metadata": {},
   "source": [
    "### **Data Preprocessing:**"
   ]
  },
  {
   "cell_type": "code",
   "execution_count": 3,
   "id": "10dfa496",
   "metadata": {},
   "outputs": [],
   "source": [
    "# Assigning the independent variables to the X and the dependent variables to y.\n",
    "\n",
    "X= df_cf.iloc[:,:-1].values # Drops column \"GradeClass\"and stores all the other column values in a array\n",
    "y= df_cf.iloc[:,-1].values # Stores the values of the \"GradeClass\" column in a array.\n",
    "\n",
    "# Splits the data into 80% training data and 20% testing data\n",
    "X_train, X_test, y_train, y_test = train_test_split(X, y, test_size=0.2, random_state=42)\n",
    "\n",
    "# Scaling the x values \n",
    "sc = StandardScaler() # Scales the unit variance and removes the mean of the x_training data.\n",
    "X_train = sc.fit_transform(X_train)\n",
    "X_test = sc.transform(X_test)\n"
   ]
  },
  {
   "cell_type": "markdown",
   "id": "d97f0392",
   "metadata": {},
   "source": [
    "### **Cumulative Ordinal Regression(Coral) Method:**\n",
    "\n",
    "The CORAL method is a method to convert **ordinal data(0, 1, 2, 3,...)** into a binary format **(0 = 0000, 1 = 0001, 2 = 0010)**."
   ]
  },
  {
   "cell_type": "code",
   "execution_count": 4,
   "id": "5cdd53d9",
   "metadata": {},
   "outputs": [],
   "source": [
    "# Function for converting the ordinal data of Gradeclass into binary data\n",
    "def coral_target(y, num_classes): \n",
    "    thresholds = np.arange(num_classes - 1) # Sets the limits for the binary data\n",
    "    return (y[:, None] > thresholds).astype(int) # Returns the converted binary values.\n",
    "\n",
    "num_classes = len(np.unique(y)) # Counts the number of labels in our \"GradeClass\"\n",
    "y_train_coral = coral_target(y_train, num_classes)\n",
    "y_test_coral = coral_target(y_test, num_classes)"
   ]
  },
  {
   "cell_type": "markdown",
   "id": "1758e869",
   "metadata": {},
   "source": [
    "### **Artificail Neural Network Deep-learning Model:**\n",
    "\n",
    "#### **Building the ANN model:**"
   ]
  },
  {
   "cell_type": "code",
   "execution_count": 119,
   "id": "fdb4fb84",
   "metadata": {},
   "outputs": [],
   "source": [
    "ANN = models.Sequential([  #Initializes the ANN\n",
    "    \n",
    "    # Input layer\n",
    "    layers.Input(shape=(X.shape[1],)), #Takes one column as input at a time.\n",
    "\n",
    "    # Hidden layer \n",
    "    layers.Dense(units=128, activation='relu'), # Sorts through all of the probabilities using a 128 nodes.\n",
    "    layers.Dropout(0.3),\n",
    "\n",
    "    # Hidden Layer:\n",
    "    layers.Dense(units=32, activation='relu'),\n",
    "    \n",
    "\n",
    "    # Output layer\n",
    "    layers.Dense(num_classes - 1, activation='sigmoid')  # One sigmoid per threshold\n",
    "])\n",
    "\n"
   ]
  },
  {
   "cell_type": "markdown",
   "id": "c384eaac",
   "metadata": {},
   "source": [
    "#### **Training the ANN:**"
   ]
  },
  {
   "cell_type": "code",
   "execution_count": 120,
   "id": "0a23473c",
   "metadata": {},
   "outputs": [
    {
     "name": "stdout",
     "output_type": "stream",
     "text": [
      "Epoch 1/40\n",
      "\u001b[1m41/41\u001b[0m \u001b[32m━━━━━━━━━━━━━━━━━━━━\u001b[0m\u001b[37m\u001b[0m \u001b[1m3s\u001b[0m 14ms/step - accuracy: 0.2015 - loss: 0.6628 - val_accuracy: 0.6154 - val_loss: 0.4366\n",
      "Epoch 2/40\n",
      "\u001b[1m41/41\u001b[0m \u001b[32m━━━━━━━━━━━━━━━━━━━━\u001b[0m\u001b[37m\u001b[0m \u001b[1m0s\u001b[0m 4ms/step - accuracy: 0.6333 - loss: 0.3785 - val_accuracy: 0.6862 - val_loss: 0.2528\n",
      "Epoch 3/40\n",
      "\u001b[1m41/41\u001b[0m \u001b[32m━━━━━━━━━━━━━━━━━━━━\u001b[0m\u001b[37m\u001b[0m \u001b[1m0s\u001b[0m 7ms/step - accuracy: 0.6462 - loss: 0.2252 - val_accuracy: 0.5969 - val_loss: 0.1683\n",
      "Epoch 4/40\n",
      "\u001b[1m41/41\u001b[0m \u001b[32m━━━━━━━━━━━━━━━━━━━━\u001b[0m\u001b[37m\u001b[0m \u001b[1m0s\u001b[0m 7ms/step - accuracy: 0.5761 - loss: 0.1682 - val_accuracy: 0.5108 - val_loss: 0.1400\n",
      "Epoch 5/40\n",
      "\u001b[1m41/41\u001b[0m \u001b[32m━━━━━━━━━━━━━━━━━━━━\u001b[0m\u001b[37m\u001b[0m \u001b[1m0s\u001b[0m 5ms/step - accuracy: 0.5121 - loss: 0.1427 - val_accuracy: 0.4615 - val_loss: 0.1252\n",
      "Epoch 6/40\n",
      "\u001b[1m41/41\u001b[0m \u001b[32m━━━━━━━━━━━━━━━━━━━━\u001b[0m\u001b[37m\u001b[0m \u001b[1m0s\u001b[0m 7ms/step - accuracy: 0.5058 - loss: 0.1346 - val_accuracy: 0.4462 - val_loss: 0.1152\n",
      "Epoch 7/40\n",
      "\u001b[1m41/41\u001b[0m \u001b[32m━━━━━━━━━━━━━━━━━━━━\u001b[0m\u001b[37m\u001b[0m \u001b[1m0s\u001b[0m 7ms/step - accuracy: 0.4930 - loss: 0.1248 - val_accuracy: 0.4185 - val_loss: 0.1148\n",
      "Epoch 8/40\n",
      "\u001b[1m41/41\u001b[0m \u001b[32m━━━━━━━━━━━━━━━━━━━━\u001b[0m\u001b[37m\u001b[0m \u001b[1m0s\u001b[0m 8ms/step - accuracy: 0.4574 - loss: 0.1206 - val_accuracy: 0.4277 - val_loss: 0.1108\n",
      "Epoch 9/40\n",
      "\u001b[1m41/41\u001b[0m \u001b[32m━━━━━━━━━━━━━━━━━━━━\u001b[0m\u001b[37m\u001b[0m \u001b[1m0s\u001b[0m 7ms/step - accuracy: 0.4660 - loss: 0.1140 - val_accuracy: 0.4308 - val_loss: 0.1074\n",
      "Epoch 10/40\n",
      "\u001b[1m41/41\u001b[0m \u001b[32m━━━━━━━━━━━━━━━━━━━━\u001b[0m\u001b[37m\u001b[0m \u001b[1m0s\u001b[0m 5ms/step - accuracy: 0.4256 - loss: 0.1066 - val_accuracy: 0.4277 - val_loss: 0.1107\n",
      "Epoch 11/40\n",
      "\u001b[1m41/41\u001b[0m \u001b[32m━━━━━━━━━━━━━━━━━━━━\u001b[0m\u001b[37m\u001b[0m \u001b[1m0s\u001b[0m 8ms/step - accuracy: 0.4646 - loss: 0.1123 - val_accuracy: 0.4308 - val_loss: 0.1078\n",
      "Epoch 12/40\n",
      "\u001b[1m41/41\u001b[0m \u001b[32m━━━━━━━━━━━━━━━━━━━━\u001b[0m\u001b[37m\u001b[0m \u001b[1m0s\u001b[0m 7ms/step - accuracy: 0.4745 - loss: 0.1110 - val_accuracy: 0.4277 - val_loss: 0.1062\n",
      "Epoch 13/40\n",
      "\u001b[1m41/41\u001b[0m \u001b[32m━━━━━━━━━━━━━━━━━━━━\u001b[0m\u001b[37m\u001b[0m \u001b[1m0s\u001b[0m 4ms/step - accuracy: 0.4812 - loss: 0.1088 - val_accuracy: 0.4585 - val_loss: 0.1052\n",
      "Epoch 14/40\n",
      "\u001b[1m41/41\u001b[0m \u001b[32m━━━━━━━━━━━━━━━━━━━━\u001b[0m\u001b[37m\u001b[0m \u001b[1m0s\u001b[0m 5ms/step - accuracy: 0.4886 - loss: 0.1025 - val_accuracy: 0.4892 - val_loss: 0.1066\n",
      "Epoch 15/40\n",
      "\u001b[1m41/41\u001b[0m \u001b[32m━━━━━━━━━━━━━━━━━━━━\u001b[0m\u001b[37m\u001b[0m \u001b[1m0s\u001b[0m 7ms/step - accuracy: 0.5332 - loss: 0.0944 - val_accuracy: 0.4892 - val_loss: 0.1030\n",
      "Epoch 16/40\n",
      "\u001b[1m41/41\u001b[0m \u001b[32m━━━━━━━━━━━━━━━━━━━━\u001b[0m\u001b[37m\u001b[0m \u001b[1m0s\u001b[0m 8ms/step - accuracy: 0.5212 - loss: 0.1042 - val_accuracy: 0.4738 - val_loss: 0.1032\n",
      "Epoch 17/40\n",
      "\u001b[1m41/41\u001b[0m \u001b[32m━━━━━━━━━━━━━━━━━━━━\u001b[0m\u001b[37m\u001b[0m \u001b[1m0s\u001b[0m 4ms/step - accuracy: 0.5667 - loss: 0.1075 - val_accuracy: 0.5323 - val_loss: 0.1063\n",
      "Epoch 18/40\n",
      "\u001b[1m41/41\u001b[0m \u001b[32m━━━━━━━━━━━━━━━━━━━━\u001b[0m\u001b[37m\u001b[0m \u001b[1m0s\u001b[0m 8ms/step - accuracy: 0.6184 - loss: 0.1051 - val_accuracy: 0.5477 - val_loss: 0.1059\n",
      "Epoch 19/40\n",
      "\u001b[1m41/41\u001b[0m \u001b[32m━━━━━━━━━━━━━━━━━━━━\u001b[0m\u001b[37m\u001b[0m \u001b[1m0s\u001b[0m 9ms/step - accuracy: 0.6310 - loss: 0.1005 - val_accuracy: 0.5662 - val_loss: 0.1044\n",
      "Epoch 20/40\n",
      "\u001b[1m41/41\u001b[0m \u001b[32m━━━━━━━━━━━━━━━━━━━━\u001b[0m\u001b[37m\u001b[0m \u001b[1m0s\u001b[0m 7ms/step - accuracy: 0.6374 - loss: 0.1007 - val_accuracy: 0.6062 - val_loss: 0.1052\n",
      "Epoch 21/40\n",
      "\u001b[1m41/41\u001b[0m \u001b[32m━━━━━━━━━━━━━━━━━━━━\u001b[0m\u001b[37m\u001b[0m \u001b[1m0s\u001b[0m 6ms/step - accuracy: 0.6495 - loss: 0.1003 - val_accuracy: 0.6400 - val_loss: 0.1062\n",
      "Epoch 22/40\n",
      "\u001b[1m41/41\u001b[0m \u001b[32m━━━━━━━━━━━━━━━━━━━━\u001b[0m\u001b[37m\u001b[0m \u001b[1m0s\u001b[0m 8ms/step - accuracy: 0.6773 - loss: 0.0954 - val_accuracy: 0.6462 - val_loss: 0.1035\n",
      "Epoch 23/40\n",
      "\u001b[1m41/41\u001b[0m \u001b[32m━━━━━━━━━━━━━━━━━━━━\u001b[0m\u001b[37m\u001b[0m \u001b[1m0s\u001b[0m 8ms/step - accuracy: 0.6979 - loss: 0.0968 - val_accuracy: 0.7108 - val_loss: 0.1055\n",
      "Epoch 24/40\n",
      "\u001b[1m41/41\u001b[0m \u001b[32m━━━━━━━━━━━━━━━━━━━━\u001b[0m\u001b[37m\u001b[0m \u001b[1m0s\u001b[0m 7ms/step - accuracy: 0.7651 - loss: 0.1027 - val_accuracy: 0.7138 - val_loss: 0.1084\n",
      "Epoch 25/40\n",
      "\u001b[1m41/41\u001b[0m \u001b[32m━━━━━━━━━━━━━━━━━━━━\u001b[0m\u001b[37m\u001b[0m \u001b[1m0s\u001b[0m 8ms/step - accuracy: 0.7620 - loss: 0.1008 - val_accuracy: 0.7385 - val_loss: 0.1048\n",
      "Epoch 26/40\n",
      "\u001b[1m41/41\u001b[0m \u001b[32m━━━━━━━━━━━━━━━━━━━━\u001b[0m\u001b[37m\u001b[0m \u001b[1m0s\u001b[0m 7ms/step - accuracy: 0.7865 - loss: 0.0923 - val_accuracy: 0.7538 - val_loss: 0.1044\n",
      "Epoch 27/40\n",
      "\u001b[1m41/41\u001b[0m \u001b[32m━━━━━━━━━━━━━━━━━━━━\u001b[0m\u001b[37m\u001b[0m \u001b[1m0s\u001b[0m 8ms/step - accuracy: 0.7877 - loss: 0.1006 - val_accuracy: 0.8000 - val_loss: 0.1057\n",
      "Epoch 28/40\n",
      "\u001b[1m41/41\u001b[0m \u001b[32m━━━━━━━━━━━━━━━━━━━━\u001b[0m\u001b[37m\u001b[0m \u001b[1m0s\u001b[0m 7ms/step - accuracy: 0.8170 - loss: 0.0940 - val_accuracy: 0.8338 - val_loss: 0.1110\n",
      "Epoch 29/40\n",
      "\u001b[1m41/41\u001b[0m \u001b[32m━━━━━━━━━━━━━━━━━━━━\u001b[0m\u001b[37m\u001b[0m \u001b[1m0s\u001b[0m 8ms/step - accuracy: 0.8605 - loss: 0.0957 - val_accuracy: 0.8031 - val_loss: 0.1033\n",
      "Epoch 30/40\n",
      "\u001b[1m41/41\u001b[0m \u001b[32m━━━━━━━━━━━━━━━━━━━━\u001b[0m\u001b[37m\u001b[0m \u001b[1m0s\u001b[0m 7ms/step - accuracy: 0.8184 - loss: 0.1063 - val_accuracy: 0.8554 - val_loss: 0.1042\n",
      "Epoch 31/40\n",
      "\u001b[1m41/41\u001b[0m \u001b[32m━━━━━━━━━━━━━━━━━━━━\u001b[0m\u001b[37m\u001b[0m \u001b[1m0s\u001b[0m 7ms/step - accuracy: 0.8657 - loss: 0.1019 - val_accuracy: 0.8708 - val_loss: 0.1058\n",
      "Epoch 32/40\n",
      "\u001b[1m41/41\u001b[0m \u001b[32m━━━━━━━━━━━━━━━━━━━━\u001b[0m\u001b[37m\u001b[0m \u001b[1m0s\u001b[0m 8ms/step - accuracy: 0.9050 - loss: 0.0892 - val_accuracy: 0.8769 - val_loss: 0.1044\n",
      "Epoch 33/40\n",
      "\u001b[1m41/41\u001b[0m \u001b[32m━━━━━━━━━━━━━━━━━━━━\u001b[0m\u001b[37m\u001b[0m \u001b[1m0s\u001b[0m 7ms/step - accuracy: 0.9042 - loss: 0.1000 - val_accuracy: 0.9323 - val_loss: 0.1032\n",
      "Epoch 34/40\n",
      "\u001b[1m41/41\u001b[0m \u001b[32m━━━━━━━━━━━━━━━━━━━━\u001b[0m\u001b[37m\u001b[0m \u001b[1m0s\u001b[0m 6ms/step - accuracy: 0.9537 - loss: 0.0991 - val_accuracy: 0.9477 - val_loss: 0.1073\n",
      "Epoch 35/40\n",
      "\u001b[1m41/41\u001b[0m \u001b[32m━━━━━━━━━━━━━━━━━━━━\u001b[0m\u001b[37m\u001b[0m \u001b[1m0s\u001b[0m 7ms/step - accuracy: 0.9361 - loss: 0.0981 - val_accuracy: 0.9600 - val_loss: 0.1047\n",
      "Epoch 36/40\n",
      "\u001b[1m41/41\u001b[0m \u001b[32m━━━━━━━━━━━━━━━━━━━━\u001b[0m\u001b[37m\u001b[0m \u001b[1m0s\u001b[0m 6ms/step - accuracy: 0.9490 - loss: 0.0959 - val_accuracy: 0.9877 - val_loss: 0.1045\n",
      "Epoch 37/40\n",
      "\u001b[1m41/41\u001b[0m \u001b[32m━━━━━━━━━━━━━━━━━━━━\u001b[0m\u001b[37m\u001b[0m \u001b[1m0s\u001b[0m 7ms/step - accuracy: 0.9799 - loss: 0.1029 - val_accuracy: 0.9908 - val_loss: 0.1060\n",
      "Epoch 38/40\n",
      "\u001b[1m41/41\u001b[0m \u001b[32m━━━━━━━━━━━━━━━━━━━━\u001b[0m\u001b[37m\u001b[0m \u001b[1m0s\u001b[0m 7ms/step - accuracy: 0.9731 - loss: 0.0924 - val_accuracy: 1.0000 - val_loss: 0.1058\n",
      "Epoch 39/40\n",
      "\u001b[1m41/41\u001b[0m \u001b[32m━━━━━━━━━━━━━━━━━━━━\u001b[0m\u001b[37m\u001b[0m \u001b[1m0s\u001b[0m 7ms/step - accuracy: 0.9926 - loss: 0.0978 - val_accuracy: 1.0000 - val_loss: 0.1044\n",
      "Epoch 40/40\n",
      "\u001b[1m41/41\u001b[0m \u001b[32m━━━━━━━━━━━━━━━━━━━━\u001b[0m\u001b[37m\u001b[0m \u001b[1m0s\u001b[0m 6ms/step - accuracy: 0.9832 - loss: 0.0994 - val_accuracy: 1.0000 - val_loss: 0.1058\n"
     ]
    },
    {
     "data": {
      "text/plain": [
       "<keras.src.callbacks.history.History at 0x18b86b646b0>"
      ]
     },
     "execution_count": 120,
     "metadata": {},
     "output_type": "execute_result"
    }
   ],
   "source": [
    "# Compiling the ANN\n",
    "ANN.compile(optimizer='adam', loss='binary_crossentropy', metrics=['accuracy']) #This tells the model how to train\n",
    "\n",
    "# Fitting the training data into the model\n",
    "ANN.fit(X_train, y_train_coral, epochs=40, batch_size=32, validation_data=(X_test, y_test_coral))"
   ]
  },
  {
   "cell_type": "markdown",
   "id": "0f505307",
   "metadata": {},
   "source": [
    "### **Predicting GradeClass:**"
   ]
  },
  {
   "cell_type": "code",
   "execution_count": 121,
   "id": "ac166f93",
   "metadata": {},
   "outputs": [
    {
     "name": "stdout",
     "output_type": "stream",
     "text": [
      "\u001b[1m11/11\u001b[0m \u001b[32m━━━━━━━━━━━━━━━━━━━━\u001b[0m\u001b[37m\u001b[0m \u001b[1m0s\u001b[0m 9ms/step\n"
     ]
    }
   ],
   "source": [
    "def ANN_predict(y_pred_sigmoids): # Converts the predicted binary values back into ordinal values.\n",
    "    return np.sum(y_pred_sigmoids > 0.5, axis=1)\n",
    "\n",
    "# Predicts Grade class in binary format\n",
    "y_pred_sigmoids = ANN.predict(X_test)\n",
    "\n",
    "# Converts the Grade Class values back into ordinal data\n",
    "y_pred_classes = ANN_predict(y_pred_sigmoids)\n"
   ]
  },
  {
   "cell_type": "markdown",
   "id": "71f25330",
   "metadata": {},
   "source": [
    "### **Evaluating predicted data:**\n",
    "\n",
    "#### **Evaluation:**"
   ]
  },
  {
   "cell_type": "code",
   "execution_count": 122,
   "id": "e8b273f7",
   "metadata": {},
   "outputs": [
    {
     "name": "stdout",
     "output_type": "stream",
     "text": [
      "              precision    recall  f1-score   support\n",
      "\n",
      "           0       0.75      0.55      0.63        11\n",
      "           1       0.74      0.76      0.75        38\n",
      "           2       0.63      0.78      0.70        40\n",
      "           3       0.67      0.65      0.66        51\n",
      "           4       0.96      0.94      0.95       185\n",
      "\n",
      "    accuracy                           0.84       325\n",
      "   macro avg       0.75      0.73      0.74       325\n",
      "weighted avg       0.84      0.84      0.84       325\n",
      "\n"
     ]
    }
   ],
   "source": [
    "# Evaluation of the predicted data\n",
    "print(classification_report(y_test, y_pred_classes)) #Outputs a summary of the models performance"
   ]
  },
  {
   "cell_type": "markdown",
   "id": "c2fdfa43",
   "metadata": {},
   "source": [
    "#### **Displaying evaluated data:**"
   ]
  },
  {
   "cell_type": "code",
   "execution_count": 123,
   "id": "0be388e3",
   "metadata": {},
   "outputs": [
    {
     "data": {
      "text/html": [
       "<div>\n",
       "<style scoped>\n",
       "    .dataframe tbody tr th:only-of-type {\n",
       "        vertical-align: middle;\n",
       "    }\n",
       "\n",
       "    .dataframe tbody tr th {\n",
       "        vertical-align: top;\n",
       "    }\n",
       "\n",
       "    .dataframe thead th {\n",
       "        text-align: right;\n",
       "    }\n",
       "</style>\n",
       "<table border=\"1\" class=\"dataframe\">\n",
       "  <thead>\n",
       "    <tr style=\"text-align: right;\">\n",
       "      <th></th>\n",
       "      <th>Actual</th>\n",
       "      <th>Predicted</th>\n",
       "    </tr>\n",
       "  </thead>\n",
       "  <tbody>\n",
       "    <tr>\n",
       "      <th>0</th>\n",
       "      <td>2</td>\n",
       "      <td>2</td>\n",
       "    </tr>\n",
       "    <tr>\n",
       "      <th>1</th>\n",
       "      <td>3</td>\n",
       "      <td>3</td>\n",
       "    </tr>\n",
       "    <tr>\n",
       "      <th>2</th>\n",
       "      <td>1</td>\n",
       "      <td>1</td>\n",
       "    </tr>\n",
       "    <tr>\n",
       "      <th>3</th>\n",
       "      <td>2</td>\n",
       "      <td>2</td>\n",
       "    </tr>\n",
       "    <tr>\n",
       "      <th>4</th>\n",
       "      <td>3</td>\n",
       "      <td>3</td>\n",
       "    </tr>\n",
       "    <tr>\n",
       "      <th>5</th>\n",
       "      <td>4</td>\n",
       "      <td>4</td>\n",
       "    </tr>\n",
       "    <tr>\n",
       "      <th>6</th>\n",
       "      <td>2</td>\n",
       "      <td>3</td>\n",
       "    </tr>\n",
       "    <tr>\n",
       "      <th>7</th>\n",
       "      <td>4</td>\n",
       "      <td>4</td>\n",
       "    </tr>\n",
       "    <tr>\n",
       "      <th>8</th>\n",
       "      <td>4</td>\n",
       "      <td>4</td>\n",
       "    </tr>\n",
       "    <tr>\n",
       "      <th>9</th>\n",
       "      <td>4</td>\n",
       "      <td>4</td>\n",
       "    </tr>\n",
       "  </tbody>\n",
       "</table>\n",
       "</div>"
      ],
      "text/plain": [
       "   Actual  Predicted\n",
       "0       2          2\n",
       "1       3          3\n",
       "2       1          1\n",
       "3       2          2\n",
       "4       3          3\n",
       "5       4          4\n",
       "6       2          3\n",
       "7       4          4\n",
       "8       4          4\n",
       "9       4          4"
      ]
     },
     "execution_count": 123,
     "metadata": {},
     "output_type": "execute_result"
    }
   ],
   "source": [
    "# Creates a table for the actual & predicted data\n",
    "df_results = pd.DataFrame({     \n",
    "    \"Actual\": y_test,\n",
    "    \"Predicted\": y_pred_classes\n",
    "})\n",
    "df_results.head(10)\n"
   ]
  },
  {
   "cell_type": "markdown",
   "id": "cc4c06c0",
   "metadata": {},
   "source": [
    "#### **Visualising evaluated data:**"
   ]
  },
  {
   "cell_type": "code",
   "execution_count": 124,
   "id": "32662493",
   "metadata": {},
   "outputs": [
    {
     "data": {
      "image/png": "[encoded data removed]",
      "text/plain": [
       "<Figure size 640x480 with 2 Axes>"
      ]
     },
     "metadata": {},
     "output_type": "display_data"
    }
   ],
   "source": [
    "cm = confusion_matrix(y_test, y_pred_classes)\n",
    "cm_normalized = cm.astype(\"float\") / cm.sum(axis=1)[:, np.newaxis]\n",
    "disp = ConfusionMatrixDisplay(confusion_matrix=cm_normalized, display_labels=[0, 1, 2, 3, 4])\n",
    "disp.plot(cmap=plt.cm.Blues)\n",
    "plt.title(\"Confusion Matrix: Actual vs Predicted\")\n",
    "plt.xlabel(\"Predicted\")\n",
    "plt.ylabel(\"Actual\")\n",
    "plt.show()"
   ]
  },
  {
   "cell_type": "code",
   "execution_count": 125,
   "id": "5a4b3295",
   "metadata": {},
   "outputs": [
    {
     "data": {
      "image/png": "[encoded data removed]",
      "text/plain": [
       "<Figure size 640x480 with 1 Axes>"
      ]
     },
     "metadata": {},
     "output_type": "display_data"
    }
   ],
   "source": [
    "sns.scatterplot(data=df_results, x=\"Actual\", y=\"Predicted\")\n",
    "plt.title(\"Actual vs Predicted GradeClass\")\n",
    "plt.plot([y_test.min(), y_test.max()], [y_test.min(), y_test.max()], 'r--')\n",
    "plt.show()"
   ]
  }
 ],
 "metadata": {
  "kernelspec": {
   "display_name": "base",
   "language": "python",
   "name": "python3"
  },
  "language_info": {
   "codemirror_mode": {
    "name": "ipython",
    "version": 3
   },
   "file_extension": ".py",
   "mimetype": "text/x-python",
   "name": "python",
   "nbconvert_exporter": "python",
   "pygments_lexer": "ipython3",
   "version": "3.12.7"
  }
 },
 "nbformat": 4,
 "nbformat_minor": 5
}
