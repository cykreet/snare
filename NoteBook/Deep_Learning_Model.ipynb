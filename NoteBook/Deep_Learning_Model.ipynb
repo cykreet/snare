{
 "cells": [
  {
   "cell_type": "markdown",
   "id": "b4542366",
   "metadata": {},
   "source": [
    "### **Import libraries:**"
   ]
  },
  {
   "cell_type": "code",
   "execution_count": 1,
   "id": "9d0c8708",
   "metadata": {},
   "outputs": [],
   "source": [
    "import pandas as pd\n",
    "import matplotlib.pyplot as plt\n",
    "import numpy as np\n",
    "import seaborn as sns\n",
    "import tensorflow as tf\n",
    "from tensorflow.keras import layers, models\n",
    "from sklearn.model_selection import train_test_split\n",
    "from sklearn.preprocessing import StandardScaler\n",
    "from sklearn.metrics import classification_report\n",
    "from sklearn.metrics import confusion_matrix,ConfusionMatrixDisplay\n"
   ]
  },
  {
   "cell_type": "markdown",
   "id": "ab8abfeb",
   "metadata": {},
   "source": [
    "### **Load Data:**"
   ]
  },
  {
   "cell_type": "code",
   "execution_count": 2,
   "id": "7914ea38",
   "metadata": {},
   "outputs": [
    {
     "data": {
      "text/html": [
       "<div>\n",
       "<style scoped>\n",
       "    .dataframe tbody tr th:only-of-type {\n",
       "        vertical-align: middle;\n",
       "    }\n",
       "\n",
       "    .dataframe tbody tr th {\n",
       "        vertical-align: top;\n",
       "    }\n",
       "\n",
       "    .dataframe thead th {\n",
       "        text-align: right;\n",
       "    }\n",
       "</style>\n",
       "<table border=\"1\" class=\"dataframe\">\n",
       "  <thead>\n",
       "    <tr style=\"text-align: right;\">\n",
       "      <th></th>\n",
       "      <th>StudyTimeWeekly</th>\n",
       "      <th>Absences</th>\n",
       "      <th>Tutoring</th>\n",
       "      <th>ParentalSupport</th>\n",
       "      <th>Extracurricular</th>\n",
       "      <th>Sports</th>\n",
       "      <th>Music</th>\n",
       "      <th>Volunteering</th>\n",
       "      <th>GradeClass</th>\n",
       "    </tr>\n",
       "  </thead>\n",
       "  <tbody>\n",
       "    <tr>\n",
       "      <th>0</th>\n",
       "      <td>19.833723</td>\n",
       "      <td>7</td>\n",
       "      <td>1</td>\n",
       "      <td>2</td>\n",
       "      <td>0</td>\n",
       "      <td>0</td>\n",
       "      <td>1</td>\n",
       "      <td>0</td>\n",
       "      <td>2</td>\n",
       "    </tr>\n",
       "    <tr>\n",
       "      <th>1</th>\n",
       "      <td>15.408756</td>\n",
       "      <td>0</td>\n",
       "      <td>0</td>\n",
       "      <td>1</td>\n",
       "      <td>0</td>\n",
       "      <td>0</td>\n",
       "      <td>0</td>\n",
       "      <td>0</td>\n",
       "      <td>1</td>\n",
       "    </tr>\n",
       "    <tr>\n",
       "      <th>2</th>\n",
       "      <td>4.210570</td>\n",
       "      <td>26</td>\n",
       "      <td>0</td>\n",
       "      <td>2</td>\n",
       "      <td>0</td>\n",
       "      <td>0</td>\n",
       "      <td>0</td>\n",
       "      <td>0</td>\n",
       "      <td>4</td>\n",
       "    </tr>\n",
       "    <tr>\n",
       "      <th>3</th>\n",
       "      <td>10.028829</td>\n",
       "      <td>14</td>\n",
       "      <td>0</td>\n",
       "      <td>3</td>\n",
       "      <td>1</td>\n",
       "      <td>0</td>\n",
       "      <td>0</td>\n",
       "      <td>0</td>\n",
       "      <td>3</td>\n",
       "    </tr>\n",
       "    <tr>\n",
       "      <th>4</th>\n",
       "      <td>4.672495</td>\n",
       "      <td>17</td>\n",
       "      <td>1</td>\n",
       "      <td>3</td>\n",
       "      <td>0</td>\n",
       "      <td>0</td>\n",
       "      <td>0</td>\n",
       "      <td>0</td>\n",
       "      <td>4</td>\n",
       "    </tr>\n",
       "  </tbody>\n",
       "</table>\n",
       "</div>"
      ],
      "text/plain": [
       "   StudyTimeWeekly  Absences  Tutoring  ParentalSupport  Extracurricular  \\\n",
       "0        19.833723         7         1                2                0   \n",
       "1        15.408756         0         0                1                0   \n",
       "2         4.210570        26         0                2                0   \n",
       "3        10.028829        14         0                3                1   \n",
       "4         4.672495        17         1                3                0   \n",
       "\n",
       "   Sports  Music  Volunteering  GradeClass  \n",
       "0       0      1             0           2  \n",
       "1       0      0             0           1  \n",
       "2       0      0             0           4  \n",
       "3       0      0             0           3  \n",
       "4       0      0             0           4  "
      ]
     },
     "execution_count": 2,
     "metadata": {},
     "output_type": "execute_result"
    }
   ],
   "source": [
    "df_cf = pd.read_csv('Transformed_Student_Performence_Data.csv')\n",
    "df_cf.head()\n",
    "\n"
   ]
  },
  {
   "cell_type": "markdown",
   "id": "d4804bc8",
   "metadata": {},
   "source": [
    "### **Data Preprocessing:**"
   ]
  },
  {
   "cell_type": "code",
   "execution_count": 3,
   "id": "10dfa496",
   "metadata": {},
   "outputs": [],
   "source": [
    "# Assigning the independent variables to the X and the dependent variables to y.\n",
    "\n",
    "X= df_cf.iloc[:,:-1].values # Drops column \"GradeClass\"and stores all the other column values in a array\n",
    "y= df_cf.iloc[:,-1].values # Stores the values of the \"GradeClass\" column in a array.\n",
    "\n",
    "# Splits the data into 80% training data and 20% testing data\n",
    "X_train, X_test, y_train, y_test = train_test_split(X, y, test_size=0.2, random_state=42)\n",
    "\n",
    "# Scaling the x values \n",
    "sc = StandardScaler() # Scales the unit variance and removes the mean of the x_training data.\n",
    "X_train = sc.fit_transform(X_train)\n",
    "X_test = sc.transform(X_test)\n"
   ]
  },
  {
   "cell_type": "markdown",
   "id": "d97f0392",
   "metadata": {},
   "source": [
    "### **Cumulative Ordinal Regression(Coral) Method:**\n",
    "\n",
    "The CORAL method is a method to convert **ordinal data(0, 1, 2, 3,...)** into a binary format **(0 = 0000, 1 = 0001, 2 = 0010)**."
   ]
  },
  {
   "cell_type": "code",
   "execution_count": 4,
   "id": "5cdd53d9",
   "metadata": {},
   "outputs": [],
   "source": [
    "# Function for converting the ordinal data of Gradeclass into binary data\n",
    "def coral_target(y, num_classes): \n",
    "    thresholds = np.arange(num_classes - 1) # Sets the limits for the binary data\n",
    "    return (y[:, None] > thresholds).astype(int) # Returns the converted binary values.\n",
    "\n",
    "num_classes = len(np.unique(y)) # Counts the number of labels in our \"GradeClass\"\n",
    "y_train_coral = coral_target(y_train, num_classes)\n",
    "y_test_coral = coral_target(y_test, num_classes)"
   ]
  },
  {
   "cell_type": "markdown",
   "id": "1758e869",
   "metadata": {},
   "source": [
    "### **Artificail Neural Network Deep-learning Model:**\n",
    "\n",
    "#### **Building the ANN model:**"
   ]
  },
  {
   "cell_type": "code",
   "execution_count": 5,
   "id": "fdb4fb84",
   "metadata": {},
   "outputs": [],
   "source": [
    "ANN = models.Sequential([  #Initializes the ANN\n",
    "    \n",
    "    # Input layer\n",
    "    layers.Input(shape=(X.shape[1],)), #Takes one column as input at a time.\n",
    "\n",
    "    # Hidden layer \n",
    "    layers.Dense(units=128, activation='relu'), # Sorts through all of the probabilities using a 128 nodes.\n",
    "\n",
    "    # Output layer\n",
    "    layers.Dense(num_classes - 1, activation='sigmoid')  # One sigmoid per threshold\n",
    "])\n"
   ]
  },
  {
   "cell_type": "markdown",
   "id": "c384eaac",
   "metadata": {},
   "source": [
    "#### **Training the ANN:**"
   ]
  },
  {
   "cell_type": "code",
   "execution_count": 6,
   "id": "0a23473c",
   "metadata": {},
   "outputs": [
    {
     "name": "stdout",
     "output_type": "stream",
     "text": [
      "Epoch 1/40\n",
      "\u001b[1m60/60\u001b[0m \u001b[32m━━━━━━━━━━━━━━━━━━━━\u001b[0m\u001b[37m\u001b[0m \u001b[1m2s\u001b[0m 9ms/step - accuracy: 0.6629 - loss: 0.6177 - val_accuracy: 0.8121 - val_loss: 0.4096\n",
      "Epoch 2/40\n",
      "\u001b[1m60/60\u001b[0m \u001b[32m━━━━━━━━━━━━━━━━━━━━\u001b[0m\u001b[37m\u001b[0m \u001b[1m0s\u001b[0m 6ms/step - accuracy: 0.8793 - loss: 0.3667 - val_accuracy: 0.9228 - val_loss: 0.2759\n",
      "Epoch 3/40\n",
      "\u001b[1m60/60\u001b[0m \u001b[32m━━━━━━━━━━━━━━━━━━━━\u001b[0m\u001b[37m\u001b[0m \u001b[1m0s\u001b[0m 6ms/step - accuracy: 0.9045 - loss: 0.2519 - val_accuracy: 0.8559 - val_loss: 0.2097\n",
      "Epoch 4/40\n",
      "\u001b[1m60/60\u001b[0m \u001b[32m━━━━━━━━━━━━━━━━━━━━\u001b[0m\u001b[37m\u001b[0m \u001b[1m0s\u001b[0m 3ms/step - accuracy: 0.8294 - loss: 0.1887 - val_accuracy: 0.7495 - val_loss: 0.1751\n",
      "Epoch 5/40\n",
      "\u001b[1m60/60\u001b[0m \u001b[32m━━━━━━━━━━━━━━━━━━━━\u001b[0m\u001b[37m\u001b[0m \u001b[1m0s\u001b[0m 4ms/step - accuracy: 0.7254 - loss: 0.1616 - val_accuracy: 0.6639 - val_loss: 0.1553\n",
      "Epoch 6/40\n",
      "\u001b[1m60/60\u001b[0m \u001b[32m━━━━━━━━━━━━━━━━━━━━\u001b[0m\u001b[37m\u001b[0m \u001b[1m0s\u001b[0m 6ms/step - accuracy: 0.6495 - loss: 0.1385 - val_accuracy: 0.6159 - val_loss: 0.1426\n",
      "Epoch 7/40\n",
      "\u001b[1m60/60\u001b[0m \u001b[32m━━━━━━━━━━━━━━━━━━━━\u001b[0m\u001b[37m\u001b[0m \u001b[1m0s\u001b[0m 3ms/step - accuracy: 0.6052 - loss: 0.1313 - val_accuracy: 0.5741 - val_loss: 0.1348\n",
      "Epoch 8/40\n",
      "\u001b[1m60/60\u001b[0m \u001b[32m━━━━━━━━━━━━━━━━━━━━\u001b[0m\u001b[37m\u001b[0m \u001b[1m0s\u001b[0m 2ms/step - accuracy: 0.5761 - loss: 0.1160 - val_accuracy: 0.5553 - val_loss: 0.1284\n",
      "Epoch 9/40\n",
      "\u001b[1m60/60\u001b[0m \u001b[32m━━━━━━━━━━━━━━━━━━━━\u001b[0m\u001b[37m\u001b[0m \u001b[1m0s\u001b[0m 4ms/step - accuracy: 0.5499 - loss: 0.1109 - val_accuracy: 0.5637 - val_loss: 0.1243\n",
      "Epoch 10/40\n",
      "\u001b[1m60/60\u001b[0m \u001b[32m━━━━━━━━━━━━━━━━━━━━\u001b[0m\u001b[37m\u001b[0m \u001b[1m0s\u001b[0m 4ms/step - accuracy: 0.5529 - loss: 0.1119 - val_accuracy: 0.5637 - val_loss: 0.1213\n",
      "Epoch 11/40\n",
      "\u001b[1m60/60\u001b[0m \u001b[32m━━━━━━━━━━━━━━━━━━━━\u001b[0m\u001b[37m\u001b[0m \u001b[1m0s\u001b[0m 6ms/step - accuracy: 0.5352 - loss: 0.1053 - val_accuracy: 0.5491 - val_loss: 0.1184\n",
      "Epoch 12/40\n",
      "\u001b[1m60/60\u001b[0m \u001b[32m━━━━━━━━━━━━━━━━━━━━\u001b[0m\u001b[37m\u001b[0m \u001b[1m0s\u001b[0m 3ms/step - accuracy: 0.5379 - loss: 0.1096 - val_accuracy: 0.5365 - val_loss: 0.1169\n",
      "Epoch 13/40\n",
      "\u001b[1m60/60\u001b[0m \u001b[32m━━━━━━━━━━━━━━━━━━━━\u001b[0m\u001b[37m\u001b[0m \u001b[1m0s\u001b[0m 5ms/step - accuracy: 0.5276 - loss: 0.1005 - val_accuracy: 0.5282 - val_loss: 0.1158\n",
      "Epoch 14/40\n",
      "\u001b[1m60/60\u001b[0m \u001b[32m━━━━━━━━━━━━━━━━━━━━\u001b[0m\u001b[37m\u001b[0m \u001b[1m0s\u001b[0m 5ms/step - accuracy: 0.5058 - loss: 0.0998 - val_accuracy: 0.5282 - val_loss: 0.1144\n",
      "Epoch 15/40\n",
      "\u001b[1m60/60\u001b[0m \u001b[32m━━━━━━━━━━━━━━━━━━━━\u001b[0m\u001b[37m\u001b[0m \u001b[1m0s\u001b[0m 6ms/step - accuracy: 0.5023 - loss: 0.0960 - val_accuracy: 0.5344 - val_loss: 0.1133\n",
      "Epoch 16/40\n",
      "\u001b[1m60/60\u001b[0m \u001b[32m━━━━━━━━━━━━━━━━━━━━\u001b[0m\u001b[37m\u001b[0m \u001b[1m0s\u001b[0m 3ms/step - accuracy: 0.5425 - loss: 0.0985 - val_accuracy: 0.5324 - val_loss: 0.1126\n",
      "Epoch 17/40\n",
      "\u001b[1m60/60\u001b[0m \u001b[32m━━━━━━━━━━━━━━━━━━━━\u001b[0m\u001b[37m\u001b[0m \u001b[1m0s\u001b[0m 5ms/step - accuracy: 0.5342 - loss: 0.0977 - val_accuracy: 0.5365 - val_loss: 0.1126\n",
      "Epoch 18/40\n",
      "\u001b[1m60/60\u001b[0m \u001b[32m━━━━━━━━━━━━━━━━━━━━\u001b[0m\u001b[37m\u001b[0m \u001b[1m0s\u001b[0m 6ms/step - accuracy: 0.5542 - loss: 0.1003 - val_accuracy: 0.5407 - val_loss: 0.1118\n",
      "Epoch 19/40\n",
      "\u001b[1m60/60\u001b[0m \u001b[32m━━━━━━━━━━━━━━━━━━━━\u001b[0m\u001b[37m\u001b[0m \u001b[1m0s\u001b[0m 6ms/step - accuracy: 0.5606 - loss: 0.0943 - val_accuracy: 0.5449 - val_loss: 0.1123\n",
      "Epoch 20/40\n",
      "\u001b[1m60/60\u001b[0m \u001b[32m━━━━━━━━━━━━━━━━━━━━\u001b[0m\u001b[37m\u001b[0m \u001b[1m0s\u001b[0m 5ms/step - accuracy: 0.5434 - loss: 0.0932 - val_accuracy: 0.5887 - val_loss: 0.1109\n",
      "Epoch 21/40\n",
      "\u001b[1m60/60\u001b[0m \u001b[32m━━━━━━━━━━━━━━━━━━━━\u001b[0m\u001b[37m\u001b[0m \u001b[1m0s\u001b[0m 4ms/step - accuracy: 0.6007 - loss: 0.0949 - val_accuracy: 0.5887 - val_loss: 0.1107\n",
      "Epoch 22/40\n",
      "\u001b[1m60/60\u001b[0m \u001b[32m━━━━━━━━━━━━━━━━━━━━\u001b[0m\u001b[37m\u001b[0m \u001b[1m0s\u001b[0m 3ms/step - accuracy: 0.6087 - loss: 0.0953 - val_accuracy: 0.6180 - val_loss: 0.1103\n",
      "Epoch 23/40\n",
      "\u001b[1m60/60\u001b[0m \u001b[32m━━━━━━━━━━━━━━━━━━━━\u001b[0m\u001b[37m\u001b[0m \u001b[1m0s\u001b[0m 4ms/step - accuracy: 0.6124 - loss: 0.0981 - val_accuracy: 0.6409 - val_loss: 0.1105\n",
      "Epoch 24/40\n",
      "\u001b[1m60/60\u001b[0m \u001b[32m━━━━━━━━━━━━━━━━━━━━\u001b[0m\u001b[37m\u001b[0m \u001b[1m0s\u001b[0m 5ms/step - accuracy: 0.6243 - loss: 0.0965 - val_accuracy: 0.6576 - val_loss: 0.1100\n",
      "Epoch 25/40\n",
      "\u001b[1m60/60\u001b[0m \u001b[32m━━━━━━━━━━━━━━━━━━━━\u001b[0m\u001b[37m\u001b[0m \u001b[1m0s\u001b[0m 4ms/step - accuracy: 0.6585 - loss: 0.0897 - val_accuracy: 0.6764 - val_loss: 0.1103\n",
      "Epoch 26/40\n",
      "\u001b[1m60/60\u001b[0m \u001b[32m━━━━━━━━━━━━━━━━━━━━\u001b[0m\u001b[37m\u001b[0m \u001b[1m0s\u001b[0m 4ms/step - accuracy: 0.6829 - loss: 0.0887 - val_accuracy: 0.6973 - val_loss: 0.1100\n",
      "Epoch 27/40\n",
      "\u001b[1m60/60\u001b[0m \u001b[32m━━━━━━━━━━━━━━━━━━━━\u001b[0m\u001b[37m\u001b[0m \u001b[1m0s\u001b[0m 3ms/step - accuracy: 0.7010 - loss: 0.0924 - val_accuracy: 0.7286 - val_loss: 0.1097\n",
      "Epoch 28/40\n",
      "\u001b[1m60/60\u001b[0m \u001b[32m━━━━━━━━━━━━━━━━━━━━\u001b[0m\u001b[37m\u001b[0m \u001b[1m0s\u001b[0m 3ms/step - accuracy: 0.7019 - loss: 0.0836 - val_accuracy: 0.8079 - val_loss: 0.1097\n",
      "Epoch 29/40\n",
      "\u001b[1m60/60\u001b[0m \u001b[32m━━━━━━━━━━━━━━━━━━━━\u001b[0m\u001b[37m\u001b[0m \u001b[1m0s\u001b[0m 3ms/step - accuracy: 0.7979 - loss: 0.0890 - val_accuracy: 0.7933 - val_loss: 0.1096\n",
      "Epoch 30/40\n",
      "\u001b[1m60/60\u001b[0m \u001b[32m━━━━━━━━━━━━━━━━━━━━\u001b[0m\u001b[37m\u001b[0m \u001b[1m0s\u001b[0m 3ms/step - accuracy: 0.7912 - loss: 0.0888 - val_accuracy: 0.7954 - val_loss: 0.1096\n",
      "Epoch 31/40\n",
      "\u001b[1m60/60\u001b[0m \u001b[32m━━━━━━━━━━━━━━━━━━━━\u001b[0m\u001b[37m\u001b[0m \u001b[1m0s\u001b[0m 3ms/step - accuracy: 0.8266 - loss: 0.0852 - val_accuracy: 0.8476 - val_loss: 0.1093\n",
      "Epoch 32/40\n",
      "\u001b[1m60/60\u001b[0m \u001b[32m━━━━━━━━━━━━━━━━━━━━\u001b[0m\u001b[37m\u001b[0m \u001b[1m0s\u001b[0m 3ms/step - accuracy: 0.8602 - loss: 0.0904 - val_accuracy: 0.8518 - val_loss: 0.1093\n",
      "Epoch 33/40\n",
      "\u001b[1m60/60\u001b[0m \u001b[32m━━━━━━━━━━━━━━━━━━━━\u001b[0m\u001b[37m\u001b[0m \u001b[1m0s\u001b[0m 3ms/step - accuracy: 0.8381 - loss: 0.0893 - val_accuracy: 0.8831 - val_loss: 0.1098\n",
      "Epoch 34/40\n",
      "\u001b[1m60/60\u001b[0m \u001b[32m━━━━━━━━━━━━━━━━━━━━\u001b[0m\u001b[37m\u001b[0m \u001b[1m0s\u001b[0m 2ms/step - accuracy: 0.8779 - loss: 0.0866 - val_accuracy: 0.8914 - val_loss: 0.1101\n",
      "Epoch 35/40\n",
      "\u001b[1m60/60\u001b[0m \u001b[32m━━━━━━━━━━━━━━━━━━━━\u001b[0m\u001b[37m\u001b[0m \u001b[1m0s\u001b[0m 3ms/step - accuracy: 0.8939 - loss: 0.0896 - val_accuracy: 0.9081 - val_loss: 0.1093\n",
      "Epoch 36/40\n",
      "\u001b[1m60/60\u001b[0m \u001b[32m━━━━━━━━━━━━━━━━━━━━\u001b[0m\u001b[37m\u001b[0m \u001b[1m0s\u001b[0m 3ms/step - accuracy: 0.9058 - loss: 0.0885 - val_accuracy: 0.9123 - val_loss: 0.1094\n",
      "Epoch 37/40\n",
      "\u001b[1m60/60\u001b[0m \u001b[32m━━━━━━━━━━━━━━━━━━━━\u001b[0m\u001b[37m\u001b[0m \u001b[1m0s\u001b[0m 3ms/step - accuracy: 0.9157 - loss: 0.0914 - val_accuracy: 0.9123 - val_loss: 0.1098\n",
      "Epoch 38/40\n",
      "\u001b[1m60/60\u001b[0m \u001b[32m━━━━━━━━━━━━━━━━━━━━\u001b[0m\u001b[37m\u001b[0m \u001b[1m0s\u001b[0m 3ms/step - accuracy: 0.9147 - loss: 0.0877 - val_accuracy: 0.9374 - val_loss: 0.1100\n",
      "Epoch 39/40\n",
      "\u001b[1m60/60\u001b[0m \u001b[32m━━━━━━━━━━━━━━━━━━━━\u001b[0m\u001b[37m\u001b[0m \u001b[1m0s\u001b[0m 3ms/step - accuracy: 0.9425 - loss: 0.0900 - val_accuracy: 0.9311 - val_loss: 0.1101\n",
      "Epoch 40/40\n",
      "\u001b[1m60/60\u001b[0m \u001b[32m━━━━━━━━━━━━━━━━━━━━\u001b[0m\u001b[37m\u001b[0m \u001b[1m0s\u001b[0m 4ms/step - accuracy: 0.9440 - loss: 0.0866 - val_accuracy: 0.9520 - val_loss: 0.1097\n"
     ]
    },
    {
     "data": {
      "text/plain": [
       "<keras.src.callbacks.history.History at 0x2b9d9a547c0>"
      ]
     },
     "execution_count": 6,
     "metadata": {},
     "output_type": "execute_result"
    }
   ],
   "source": [
    "# Compiling the ANN\n",
    "ANN.compile(optimizer='adam', loss='binary_crossentropy', metrics=['accuracy']) #This tells the model how to train\n",
    "\n",
    "# Fitting the training data into the model\n",
    "ANN.fit(X_train, y_train_coral, epochs=40, batch_size=32, validation_data=(X_test, y_test_coral))"
   ]
  },
  {
   "cell_type": "markdown",
   "id": "0f505307",
   "metadata": {},
   "source": [
    "### **Predicting GradeClass:**"
   ]
  },
  {
   "cell_type": "code",
   "execution_count": 7,
   "id": "ac166f93",
   "metadata": {},
   "outputs": [
    {
     "name": "stdout",
     "output_type": "stream",
     "text": [
      "\u001b[1m15/15\u001b[0m \u001b[32m━━━━━━━━━━━━━━━━━━━━\u001b[0m\u001b[37m\u001b[0m \u001b[1m0s\u001b[0m 6ms/step\n"
     ]
    }
   ],
   "source": [
    "def ANN_predict(y_pred_sigmoids): # Converts the predicted binary values back into ordinal values.\n",
    "    return np.sum(y_pred_sigmoids > 0.5, axis=1)\n",
    "\n",
    "# Predicts Grade class in binary format\n",
    "y_pred_sigmoids = ANN.predict(X_test)\n",
    "\n",
    "# Converts the Grade Class values back into ordinal data\n",
    "y_pred_classes = ANN_predict(y_pred_sigmoids)\n"
   ]
  },
  {
   "cell_type": "markdown",
   "id": "71f25330",
   "metadata": {},
   "source": [
    "### **Evaluating predicted data:**\n",
    "\n",
    "#### **Evaluation:**"
   ]
  },
  {
   "cell_type": "code",
   "execution_count": 8,
   "id": "e8b273f7",
   "metadata": {},
   "outputs": [
    {
     "name": "stdout",
     "output_type": "stream",
     "text": [
      "              precision    recall  f1-score   support\n",
      "\n",
      "           0       0.90      0.56      0.69        16\n",
      "           1       0.65      0.73      0.69        49\n",
      "           2       0.69      0.71      0.70        80\n",
      "           3       0.68      0.61      0.64        85\n",
      "           4       0.93      0.94      0.93       249\n",
      "\n",
      "    accuracy                           0.81       479\n",
      "   macro avg       0.77      0.71      0.73       479\n",
      "weighted avg       0.81      0.81      0.81       479\n",
      "\n"
     ]
    }
   ],
   "source": [
    "# Evaluation of the predicted data\n",
    "print(classification_report(y_test, y_pred_classes)) #Outputs a summary of the models performance"
   ]
  },
  {
   "cell_type": "markdown",
   "id": "c2fdfa43",
   "metadata": {},
   "source": [
    "#### **Displaying evaluated data:**"
   ]
  },
  {
   "cell_type": "code",
   "execution_count": 9,
   "id": "0be388e3",
   "metadata": {},
   "outputs": [
    {
     "data": {
      "text/html": [
       "<div>\n",
       "<style scoped>\n",
       "    .dataframe tbody tr th:only-of-type {\n",
       "        vertical-align: middle;\n",
       "    }\n",
       "\n",
       "    .dataframe tbody tr th {\n",
       "        vertical-align: top;\n",
       "    }\n",
       "\n",
       "    .dataframe thead th {\n",
       "        text-align: right;\n",
       "    }\n",
       "</style>\n",
       "<table border=\"1\" class=\"dataframe\">\n",
       "  <thead>\n",
       "    <tr style=\"text-align: right;\">\n",
       "      <th></th>\n",
       "      <th>Actual</th>\n",
       "      <th>Predicted</th>\n",
       "    </tr>\n",
       "  </thead>\n",
       "  <tbody>\n",
       "    <tr>\n",
       "      <th>0</th>\n",
       "      <td>4</td>\n",
       "      <td>4</td>\n",
       "    </tr>\n",
       "    <tr>\n",
       "      <th>1</th>\n",
       "      <td>1</td>\n",
       "      <td>2</td>\n",
       "    </tr>\n",
       "    <tr>\n",
       "      <th>2</th>\n",
       "      <td>3</td>\n",
       "      <td>4</td>\n",
       "    </tr>\n",
       "    <tr>\n",
       "      <th>3</th>\n",
       "      <td>0</td>\n",
       "      <td>0</td>\n",
       "    </tr>\n",
       "    <tr>\n",
       "      <th>4</th>\n",
       "      <td>4</td>\n",
       "      <td>4</td>\n",
       "    </tr>\n",
       "    <tr>\n",
       "      <th>5</th>\n",
       "      <td>2</td>\n",
       "      <td>2</td>\n",
       "    </tr>\n",
       "    <tr>\n",
       "      <th>6</th>\n",
       "      <td>3</td>\n",
       "      <td>4</td>\n",
       "    </tr>\n",
       "    <tr>\n",
       "      <th>7</th>\n",
       "      <td>3</td>\n",
       "      <td>3</td>\n",
       "    </tr>\n",
       "    <tr>\n",
       "      <th>8</th>\n",
       "      <td>3</td>\n",
       "      <td>3</td>\n",
       "    </tr>\n",
       "    <tr>\n",
       "      <th>9</th>\n",
       "      <td>4</td>\n",
       "      <td>4</td>\n",
       "    </tr>\n",
       "  </tbody>\n",
       "</table>\n",
       "</div>"
      ],
      "text/plain": [
       "   Actual  Predicted\n",
       "0       4          4\n",
       "1       1          2\n",
       "2       3          4\n",
       "3       0          0\n",
       "4       4          4\n",
       "5       2          2\n",
       "6       3          4\n",
       "7       3          3\n",
       "8       3          3\n",
       "9       4          4"
      ]
     },
     "execution_count": 9,
     "metadata": {},
     "output_type": "execute_result"
    }
   ],
   "source": [
    "# Creates a table for the actual & predicted data\n",
    "df_results = pd.DataFrame({     \n",
    "    \"Actual\": y_test,\n",
    "    \"Predicted\": y_pred_classes\n",
    "})\n",
    "df_results.head(10)\n"
   ]
  },
  {
   "cell_type": "markdown",
   "id": "cc4c06c0",
   "metadata": {},
   "source": [
    "#### **Visualising evaluated data:**"
   ]
  },
  {
   "cell_type": "code",
   "execution_count": 10,
   "id": "32662493",
   "metadata": {},
   "outputs": [
    {
     "data": {
      "image/png": "[encoded data removed]",
      "text/plain": [
       "<Figure size 640x480 with 2 Axes>"
      ]
     },
     "metadata": {},
     "output_type": "display_data"
    }
   ],
   "source": [
    "cm = confusion_matrix(y_test, y_pred_classes)\n",
    "disp = ConfusionMatrixDisplay(confusion_matrix=cm, display_labels=[0, 1, 2, 3, 4])\n",
    "disp.plot(cmap=plt.cm.Blues)\n",
    "plt.title(\"Confusion Matrix: Actual vs Predicted\")\n",
    "plt.xlabel(\"Predicted\")\n",
    "plt.ylabel(\"Actual\")\n",
    "plt.show()"
   ]
  },
  {
   "cell_type": "code",
   "execution_count": 11,
   "id": "5a4b3295",
   "metadata": {},
   "outputs": [
    {
     "data": {
      "image/png": "[encoded data removed]",
      "text/plain": [
       "<Figure size 640x480 with 1 Axes>"
      ]
     },
     "metadata": {},
     "output_type": "display_data"
    }
   ],
   "source": [
    "sns.scatterplot(data=df_results, x=\"Actual\", y=\"Predicted\")\n",
    "plt.title(\"Actual vs Predicted GradeClass\")\n",
    "plt.plot([y_test.min(), y_test.max()], [y_test.min(), y_test.max()], 'r--')\n",
    "plt.show()"
   ]
  }
 ],
 "metadata": {
  "kernelspec": {
   "display_name": "my3.9venv",
   "language": "python",
   "name": "python3"
  },
  "language_info": {
   "codemirror_mode": {
    "name": "ipython",
    "version": 3
   },
   "file_extension": ".py",
   "mimetype": "text/x-python",
   "name": "python",
   "nbconvert_exporter": "python",
   "pygments_lexer": "ipython3",
   "version": "3.9.13"
  }
 },
 "nbformat": 4,
 "nbformat_minor": 5
}
