{
 "cells": [
  {
   "cell_type": "markdown",
   "id": "b4542366",
   "metadata": {},
   "source": [
    "### **Import libraries:**"
   ]
  },
  {
   "cell_type": "code",
   "execution_count": 1,
   "id": "9d0c8708",
   "metadata": {},
   "outputs": [],
   "source": [
    "import pandas as pd\n",
    "import matplotlib.pyplot as plt\n",
    "import numpy as np\n",
    "import seaborn as sns\n",
    "import tensorflow as tf\n",
    "from tensorflow.keras import layers, models\n",
    "from sklearn.model_selection import train_test_split\n",
    "from sklearn.preprocessing import StandardScaler\n",
    "from sklearn.metrics import classification_report\n",
    "from sklearn.metrics import confusion_matrix,ConfusionMatrixDisplay\n"
   ]
  },
  {
   "cell_type": "markdown",
   "id": "ab8abfeb",
   "metadata": {},
   "source": [
    "### **Load Data:**"
   ]
  },
  {
   "cell_type": "code",
   "execution_count": 12,
   "id": "7914ea38",
   "metadata": {},
   "outputs": [
    {
     "name": "stderr",
     "output_type": "stream",
     "text": [
      "<>:1: SyntaxWarning: invalid escape sequence '\\D'\n",
      "<>:1: SyntaxWarning: invalid escape sequence '\\D'\n",
      "C:\\Users\\Cash\\AppData\\Local\\Temp\\ipykernel_9656\\2133171854.py:1: SyntaxWarning: invalid escape sequence '\\D'\n",
      "  df_cf = pd.read_csv('..\\Data\\Cleaned_Student_Performance_data.csv')\n"
     ]
    },
    {
     "data": {
      "text/html": [
       "<div>\n",
       "<style scoped>\n",
       "    .dataframe tbody tr th:only-of-type {\n",
       "        vertical-align: middle;\n",
       "    }\n",
       "\n",
       "    .dataframe tbody tr th {\n",
       "        vertical-align: top;\n",
       "    }\n",
       "\n",
       "    .dataframe thead th {\n",
       "        text-align: right;\n",
       "    }\n",
       "</style>\n",
       "<table border=\"1\" class=\"dataframe\">\n",
       "  <thead>\n",
       "    <tr style=\"text-align: right;\">\n",
       "      <th></th>\n",
       "      <th>StudyTimeWeekly</th>\n",
       "      <th>Absences</th>\n",
       "      <th>Tutoring</th>\n",
       "      <th>ParentalSupport</th>\n",
       "      <th>Extracurricular</th>\n",
       "      <th>Sports</th>\n",
       "      <th>Music</th>\n",
       "      <th>Volunteering</th>\n",
       "      <th>GradeClass</th>\n",
       "    </tr>\n",
       "  </thead>\n",
       "  <tbody>\n",
       "    <tr>\n",
       "      <th>0</th>\n",
       "      <td>15.408756</td>\n",
       "      <td>0</td>\n",
       "      <td>0</td>\n",
       "      <td>1</td>\n",
       "      <td>0</td>\n",
       "      <td>0</td>\n",
       "      <td>0</td>\n",
       "      <td>0</td>\n",
       "      <td>1</td>\n",
       "    </tr>\n",
       "    <tr>\n",
       "      <th>1</th>\n",
       "      <td>4.210570</td>\n",
       "      <td>26</td>\n",
       "      <td>0</td>\n",
       "      <td>2</td>\n",
       "      <td>0</td>\n",
       "      <td>0</td>\n",
       "      <td>0</td>\n",
       "      <td>0</td>\n",
       "      <td>4</td>\n",
       "    </tr>\n",
       "    <tr>\n",
       "      <th>2</th>\n",
       "      <td>10.028829</td>\n",
       "      <td>14</td>\n",
       "      <td>0</td>\n",
       "      <td>3</td>\n",
       "      <td>1</td>\n",
       "      <td>0</td>\n",
       "      <td>0</td>\n",
       "      <td>0</td>\n",
       "      <td>3</td>\n",
       "    </tr>\n",
       "    <tr>\n",
       "      <th>3</th>\n",
       "      <td>4.672495</td>\n",
       "      <td>17</td>\n",
       "      <td>1</td>\n",
       "      <td>3</td>\n",
       "      <td>0</td>\n",
       "      <td>0</td>\n",
       "      <td>0</td>\n",
       "      <td>0</td>\n",
       "      <td>4</td>\n",
       "    </tr>\n",
       "    <tr>\n",
       "      <th>4</th>\n",
       "      <td>8.191219</td>\n",
       "      <td>0</td>\n",
       "      <td>0</td>\n",
       "      <td>1</td>\n",
       "      <td>1</td>\n",
       "      <td>0</td>\n",
       "      <td>0</td>\n",
       "      <td>0</td>\n",
       "      <td>1</td>\n",
       "    </tr>\n",
       "  </tbody>\n",
       "</table>\n",
       "</div>"
      ],
      "text/plain": [
       "   StudyTimeWeekly  Absences  Tutoring  ParentalSupport  Extracurricular  \\\n",
       "0        15.408756         0         0                1                0   \n",
       "1         4.210570        26         0                2                0   \n",
       "2        10.028829        14         0                3                1   \n",
       "3         4.672495        17         1                3                0   \n",
       "4         8.191219         0         0                1                1   \n",
       "\n",
       "   Sports  Music  Volunteering  GradeClass  \n",
       "0       0      0             0           1  \n",
       "1       0      0             0           4  \n",
       "2       0      0             0           3  \n",
       "3       0      0             0           4  \n",
       "4       0      0             0           1  "
      ]
     },
     "execution_count": 12,
     "metadata": {},
     "output_type": "execute_result"
    }
   ],
   "source": [
    "df_cf = pd.read_csv('..\\Data\\Cleaned_Student_Performance_data.csv')\n",
    "df_cf.head()\n",
    "\n"
   ]
  },
  {
   "cell_type": "markdown",
   "id": "d4804bc8",
   "metadata": {},
   "source": [
    "### **Data Preprocessing:**"
   ]
  },
  {
   "cell_type": "code",
   "execution_count": 3,
   "id": "10dfa496",
   "metadata": {},
   "outputs": [],
   "source": [
    "# Assigning the independent variables to the X and the dependent variables to y.\n",
    "\n",
    "X= df_cf.iloc[:,:-1].values # Drops column \"GradeClass\"and stores all the other column values in a array\n",
    "y= df_cf.iloc[:,-1].values # Stores the values of the \"GradeClass\" column in a array.\n",
    "\n",
    "# Splits the data into 80% training data and 20% testing data\n",
    "X_train, X_test, y_train, y_test = train_test_split(X, y, test_size=0.2, random_state=42)\n",
    "\n",
    "# Scaling the x values \n",
    "sc = StandardScaler() # Scales the unit variance and removes the mean of the x_training data.\n",
    "X_train = sc.fit_transform(X_train)\n",
    "X_test = sc.transform(X_test)\n"
   ]
  },
  {
   "cell_type": "markdown",
   "id": "d97f0392",
   "metadata": {},
   "source": [
    "### **Cumulative Ordinal Regression(Coral) Method:**\n",
    "\n",
    "The CORAL method is a method to convert **ordinal data(0, 1, 2, 3,...)** into a binary format **(0 = 0000, 1 = 0001, 2 = 0010)**."
   ]
  },
  {
   "cell_type": "code",
   "execution_count": 4,
   "id": "5cdd53d9",
   "metadata": {},
   "outputs": [],
   "source": [
    "# Function for converting the ordinal data of Gradeclass into binary data\n",
    "def coral_target(y, num_classes): \n",
    "    thresholds = np.arange(num_classes - 1) # Sets the limits for the binary data\n",
    "    return (y[:, None] > thresholds).astype(int) # Returns the converted binary values.\n",
    "\n",
    "num_classes = len(np.unique(y)) # Counts the number of labels in our \"GradeClass\"\n",
    "y_train_coral = coral_target(y_train, num_classes)\n",
    "y_test_coral = coral_target(y_test, num_classes)"
   ]
  },
  {
   "cell_type": "markdown",
   "id": "1758e869",
   "metadata": {},
   "source": [
    "### **Artificail Neural Network Deep-learning Model:**\n",
    "\n",
    "#### **Building the ANN model:**"
   ]
  },
  {
   "cell_type": "code",
   "execution_count": 5,
   "id": "fdb4fb84",
   "metadata": {},
   "outputs": [],
   "source": [
    "ANN = models.Sequential([  #Initializes the ANN\n",
    "    \n",
    "    # Input layer\n",
    "    layers.Input(shape=(X.shape[1],)), #Takes one column as input at a time.\n",
    "\n",
    "    # Hidden layer \n",
    "    layers.Dense(units=128, activation='relu'), # Sorts through all of the probabilities using a 128 nodes.\n",
    "    layers.Dropout(0.3),\n",
    "\n",
    "    # Hidden Layer:\n",
    "    layers.Dense(units=32, activation='relu'),\n",
    "    \n",
    "\n",
    "    # Output layer\n",
    "    layers.Dense(num_classes - 1, activation='sigmoid')  # One sigmoid per threshold\n",
    "])\n",
    "\n"
   ]
  },
  {
   "cell_type": "markdown",
   "id": "c384eaac",
   "metadata": {},
   "source": [
    "#### **Training the ANN:**"
   ]
  },
  {
   "cell_type": "code",
   "execution_count": 6,
   "id": "0a23473c",
   "metadata": {},
   "outputs": [
    {
     "name": "stdout",
     "output_type": "stream",
     "text": [
      "Epoch 1/40\n",
      "\u001b[1m41/41\u001b[0m \u001b[32m━━━━━━━━━━━━━━━━━━━━\u001b[0m\u001b[37m\u001b[0m \u001b[1m4s\u001b[0m 19ms/step - accuracy: 0.4534 - loss: 0.6243 - val_accuracy: 0.9077 - val_loss: 0.4192\n",
      "Epoch 2/40\n",
      "\u001b[1m41/41\u001b[0m \u001b[32m━━━━━━━━━━━━━━━━━━━━\u001b[0m\u001b[37m\u001b[0m \u001b[1m0s\u001b[0m 7ms/step - accuracy: 0.8694 - loss: 0.3635 - val_accuracy: 1.0000 - val_loss: 0.2312\n",
      "Epoch 3/40\n",
      "\u001b[1m41/41\u001b[0m \u001b[32m━━━━━━━━━━━━━━━━━━━━\u001b[0m\u001b[37m\u001b[0m \u001b[1m0s\u001b[0m 8ms/step - accuracy: 0.9843 - loss: 0.2115 - val_accuracy: 0.9415 - val_loss: 0.1551\n",
      "Epoch 4/40\n",
      "\u001b[1m41/41\u001b[0m \u001b[32m━━━━━━━━━━━━━━━━━━━━\u001b[0m\u001b[37m\u001b[0m \u001b[1m0s\u001b[0m 7ms/step - accuracy: 0.8766 - loss: 0.1733 - val_accuracy: 0.8585 - val_loss: 0.1308\n",
      "Epoch 5/40\n",
      "\u001b[1m41/41\u001b[0m \u001b[32m━━━━━━━━━━━━━━━━━━━━\u001b[0m\u001b[37m\u001b[0m \u001b[1m0s\u001b[0m 5ms/step - accuracy: 0.7548 - loss: 0.1393 - val_accuracy: 0.8646 - val_loss: 0.1217\n",
      "Epoch 6/40\n",
      "\u001b[1m41/41\u001b[0m \u001b[32m━━━━━━━━━━━━━━━━━━━━\u001b[0m\u001b[37m\u001b[0m \u001b[1m0s\u001b[0m 5ms/step - accuracy: 0.8077 - loss: 0.1406 - val_accuracy: 0.9046 - val_loss: 0.1176\n",
      "Epoch 7/40\n",
      "\u001b[1m41/41\u001b[0m \u001b[32m━━━━━━━━━━━━━━━━━━━━\u001b[0m\u001b[37m\u001b[0m \u001b[1m0s\u001b[0m 8ms/step - accuracy: 0.8341 - loss: 0.1227 - val_accuracy: 0.9231 - val_loss: 0.1127\n",
      "Epoch 8/40\n",
      "\u001b[1m41/41\u001b[0m \u001b[32m━━━━━━━━━━━━━━━━━━━━\u001b[0m\u001b[37m\u001b[0m \u001b[1m0s\u001b[0m 5ms/step - accuracy: 0.8692 - loss: 0.1184 - val_accuracy: 0.9385 - val_loss: 0.1119\n",
      "Epoch 9/40\n",
      "\u001b[1m41/41\u001b[0m \u001b[32m━━━━━━━━━━━━━━━━━━━━\u001b[0m\u001b[37m\u001b[0m \u001b[1m0s\u001b[0m 7ms/step - accuracy: 0.8895 - loss: 0.1104 - val_accuracy: 0.9600 - val_loss: 0.1109\n",
      "Epoch 10/40\n",
      "\u001b[1m41/41\u001b[0m \u001b[32m━━━━━━━━━━━━━━━━━━━━\u001b[0m\u001b[37m\u001b[0m \u001b[1m0s\u001b[0m 7ms/step - accuracy: 0.9057 - loss: 0.1116 - val_accuracy: 0.9692 - val_loss: 0.1082\n",
      "Epoch 11/40\n",
      "\u001b[1m41/41\u001b[0m \u001b[32m━━━━━━━━━━━━━━━━━━━━\u001b[0m\u001b[37m\u001b[0m \u001b[1m0s\u001b[0m 5ms/step - accuracy: 0.9031 - loss: 0.1054 - val_accuracy: 0.9846 - val_loss: 0.1053\n",
      "Epoch 12/40\n",
      "\u001b[1m41/41\u001b[0m \u001b[32m━━━━━━━━━━━━━━━━━━━━\u001b[0m\u001b[37m\u001b[0m \u001b[1m0s\u001b[0m 10ms/step - accuracy: 0.9336 - loss: 0.1110 - val_accuracy: 0.9692 - val_loss: 0.1075\n",
      "Epoch 13/40\n",
      "\u001b[1m41/41\u001b[0m \u001b[32m━━━━━━━━━━━━━━━━━━━━\u001b[0m\u001b[37m\u001b[0m \u001b[1m0s\u001b[0m 7ms/step - accuracy: 0.9606 - loss: 0.1120 - val_accuracy: 0.9231 - val_loss: 0.1055\n",
      "Epoch 14/40\n",
      "\u001b[1m41/41\u001b[0m \u001b[32m━━━━━━━━━━━━━━━━━━━━\u001b[0m\u001b[37m\u001b[0m \u001b[1m0s\u001b[0m 7ms/step - accuracy: 0.9336 - loss: 0.1052 - val_accuracy: 0.9969 - val_loss: 0.1055\n",
      "Epoch 15/40\n",
      "\u001b[1m41/41\u001b[0m \u001b[32m━━━━━━━━━━━━━━━━━━━━\u001b[0m\u001b[37m\u001b[0m \u001b[1m0s\u001b[0m 9ms/step - accuracy: 0.9549 - loss: 0.1022 - val_accuracy: 0.9846 - val_loss: 0.1090\n",
      "Epoch 16/40\n",
      "\u001b[1m41/41\u001b[0m \u001b[32m━━━━━━━━━━━━━━━━━━━━\u001b[0m\u001b[37m\u001b[0m \u001b[1m0s\u001b[0m 7ms/step - accuracy: 0.9728 - loss: 0.0964 - val_accuracy: 1.0000 - val_loss: 0.1053\n",
      "Epoch 17/40\n",
      "\u001b[1m41/41\u001b[0m \u001b[32m━━━━━━━━━━━━━━━━━━━━\u001b[0m\u001b[37m\u001b[0m \u001b[1m0s\u001b[0m 8ms/step - accuracy: 0.9769 - loss: 0.1035 - val_accuracy: 0.9969 - val_loss: 0.1109\n",
      "Epoch 18/40\n",
      "\u001b[1m41/41\u001b[0m \u001b[32m━━━━━━━━━━━━━━━━━━━━\u001b[0m\u001b[37m\u001b[0m \u001b[1m0s\u001b[0m 8ms/step - accuracy: 0.9787 - loss: 0.0991 - val_accuracy: 1.0000 - val_loss: 0.1036\n",
      "Epoch 19/40\n",
      "\u001b[1m41/41\u001b[0m \u001b[32m━━━━━━━━━━━━━━━━━━━━\u001b[0m\u001b[37m\u001b[0m \u001b[1m0s\u001b[0m 8ms/step - accuracy: 0.9943 - loss: 0.1057 - val_accuracy: 1.0000 - val_loss: 0.1079\n",
      "Epoch 20/40\n",
      "\u001b[1m41/41\u001b[0m \u001b[32m━━━━━━━━━━━━━━━━━━━━\u001b[0m\u001b[37m\u001b[0m \u001b[1m0s\u001b[0m 6ms/step - accuracy: 0.9772 - loss: 0.1037 - val_accuracy: 1.0000 - val_loss: 0.1059\n",
      "Epoch 21/40\n",
      "\u001b[1m41/41\u001b[0m \u001b[32m━━━━━━━━━━━━━━━━━━━━\u001b[0m\u001b[37m\u001b[0m \u001b[1m0s\u001b[0m 6ms/step - accuracy: 0.9926 - loss: 0.0975 - val_accuracy: 1.0000 - val_loss: 0.1034\n",
      "Epoch 22/40\n",
      "\u001b[1m41/41\u001b[0m \u001b[32m━━━━━━━━━━━━━━━━━━━━\u001b[0m\u001b[37m\u001b[0m \u001b[1m0s\u001b[0m 9ms/step - accuracy: 0.9947 - loss: 0.0982 - val_accuracy: 1.0000 - val_loss: 0.1067\n",
      "Epoch 23/40\n",
      "\u001b[1m41/41\u001b[0m \u001b[32m━━━━━━━━━━━━━━━━━━━━\u001b[0m\u001b[37m\u001b[0m \u001b[1m0s\u001b[0m 5ms/step - accuracy: 0.9951 - loss: 0.0957 - val_accuracy: 1.0000 - val_loss: 0.1019\n",
      "Epoch 24/40\n",
      "\u001b[1m41/41\u001b[0m \u001b[32m━━━━━━━━━━━━━━━━━━━━\u001b[0m\u001b[37m\u001b[0m \u001b[1m0s\u001b[0m 6ms/step - accuracy: 1.0000 - loss: 0.1008 - val_accuracy: 1.0000 - val_loss: 0.1080\n",
      "Epoch 25/40\n",
      "\u001b[1m41/41\u001b[0m \u001b[32m━━━━━━━━━━━━━━━━━━━━\u001b[0m\u001b[37m\u001b[0m \u001b[1m0s\u001b[0m 7ms/step - accuracy: 0.9976 - loss: 0.1005 - val_accuracy: 1.0000 - val_loss: 0.1053\n",
      "Epoch 26/40\n",
      "\u001b[1m41/41\u001b[0m \u001b[32m━━━━━━━━━━━━━━━━━━━━\u001b[0m\u001b[37m\u001b[0m \u001b[1m0s\u001b[0m 7ms/step - accuracy: 0.9996 - loss: 0.0960 - val_accuracy: 1.0000 - val_loss: 0.1044\n",
      "Epoch 27/40\n",
      "\u001b[1m41/41\u001b[0m \u001b[32m━━━━━━━━━━━━━━━━━━━━\u001b[0m\u001b[37m\u001b[0m \u001b[1m0s\u001b[0m 7ms/step - accuracy: 1.0000 - loss: 0.0906 - val_accuracy: 1.0000 - val_loss: 0.1064\n",
      "Epoch 28/40\n",
      "\u001b[1m41/41\u001b[0m \u001b[32m━━━━━━━━━━━━━━━━━━━━\u001b[0m\u001b[37m\u001b[0m \u001b[1m0s\u001b[0m 5ms/step - accuracy: 0.9981 - loss: 0.0984 - val_accuracy: 1.0000 - val_loss: 0.1054\n",
      "Epoch 29/40\n",
      "\u001b[1m41/41\u001b[0m \u001b[32m━━━━━━━━━━━━━━━━━━━━\u001b[0m\u001b[37m\u001b[0m \u001b[1m0s\u001b[0m 7ms/step - accuracy: 1.0000 - loss: 0.0987 - val_accuracy: 1.0000 - val_loss: 0.1048\n",
      "Epoch 30/40\n",
      "\u001b[1m41/41\u001b[0m \u001b[32m━━━━━━━━━━━━━━━━━━━━\u001b[0m\u001b[37m\u001b[0m \u001b[1m0s\u001b[0m 7ms/step - accuracy: 1.0000 - loss: 0.0983 - val_accuracy: 1.0000 - val_loss: 0.1055\n",
      "Epoch 31/40\n",
      "\u001b[1m41/41\u001b[0m \u001b[32m━━━━━━━━━━━━━━━━━━━━\u001b[0m\u001b[37m\u001b[0m \u001b[1m0s\u001b[0m 7ms/step - accuracy: 1.0000 - loss: 0.1047 - val_accuracy: 1.0000 - val_loss: 0.1053\n",
      "Epoch 32/40\n",
      "\u001b[1m41/41\u001b[0m \u001b[32m━━━━━━━━━━━━━━━━━━━━\u001b[0m\u001b[37m\u001b[0m \u001b[1m0s\u001b[0m 8ms/step - accuracy: 1.0000 - loss: 0.0975 - val_accuracy: 1.0000 - val_loss: 0.1080\n",
      "Epoch 33/40\n",
      "\u001b[1m41/41\u001b[0m \u001b[32m━━━━━━━━━━━━━━━━━━━━\u001b[0m\u001b[37m\u001b[0m \u001b[1m0s\u001b[0m 8ms/step - accuracy: 1.0000 - loss: 0.0945 - val_accuracy: 1.0000 - val_loss: 0.1063\n",
      "Epoch 34/40\n",
      "\u001b[1m41/41\u001b[0m \u001b[32m━━━━━━━━━━━━━━━━━━━━\u001b[0m\u001b[37m\u001b[0m \u001b[1m0s\u001b[0m 6ms/step - accuracy: 1.0000 - loss: 0.0969 - val_accuracy: 1.0000 - val_loss: 0.1069\n",
      "Epoch 35/40\n",
      "\u001b[1m41/41\u001b[0m \u001b[32m━━━━━━━━━━━━━━━━━━━━\u001b[0m\u001b[37m\u001b[0m \u001b[1m0s\u001b[0m 7ms/step - accuracy: 1.0000 - loss: 0.0964 - val_accuracy: 1.0000 - val_loss: 0.1053\n",
      "Epoch 36/40\n",
      "\u001b[1m41/41\u001b[0m \u001b[32m━━━━━━━━━━━━━━━━━━━━\u001b[0m\u001b[37m\u001b[0m \u001b[1m0s\u001b[0m 7ms/step - accuracy: 1.0000 - loss: 0.0884 - val_accuracy: 1.0000 - val_loss: 0.1064\n",
      "Epoch 37/40\n",
      "\u001b[1m41/41\u001b[0m \u001b[32m━━━━━━━━━━━━━━━━━━━━\u001b[0m\u001b[37m\u001b[0m \u001b[1m0s\u001b[0m 9ms/step - accuracy: 1.0000 - loss: 0.0935 - val_accuracy: 1.0000 - val_loss: 0.1048\n",
      "Epoch 38/40\n",
      "\u001b[1m41/41\u001b[0m \u001b[32m━━━━━━━━━━━━━━━━━━━━\u001b[0m\u001b[37m\u001b[0m \u001b[1m0s\u001b[0m 8ms/step - accuracy: 1.0000 - loss: 0.0983 - val_accuracy: 1.0000 - val_loss: 0.1082\n",
      "Epoch 39/40\n",
      "\u001b[1m41/41\u001b[0m \u001b[32m━━━━━━━━━━━━━━━━━━━━\u001b[0m\u001b[37m\u001b[0m \u001b[1m0s\u001b[0m 7ms/step - accuracy: 1.0000 - loss: 0.1066 - val_accuracy: 1.0000 - val_loss: 0.1045\n",
      "Epoch 40/40\n",
      "\u001b[1m41/41\u001b[0m \u001b[32m━━━━━━━━━━━━━━━━━━━━\u001b[0m\u001b[37m\u001b[0m \u001b[1m0s\u001b[0m 8ms/step - accuracy: 1.0000 - loss: 0.1000 - val_accuracy: 1.0000 - val_loss: 0.1053\n"
     ]
    },
    {
     "data": {
      "text/plain": [
       "<keras.src.callbacks.history.History at 0x2537bd85cd0>"
      ]
     },
     "execution_count": 6,
     "metadata": {},
     "output_type": "execute_result"
    }
   ],
   "source": [
    "# Compiling the ANN\n",
    "ANN.compile(optimizer='adam', loss='binary_crossentropy', metrics=['accuracy']) #This tells the model how to train\n",
    "\n",
    "# Fitting the training data into the model\n",
    "ANN.fit(X_train, y_train_coral, epochs=40, batch_size=32, validation_data=(X_test, y_test_coral))"
   ]
  },
  {
   "cell_type": "markdown",
   "id": "0f505307",
   "metadata": {},
   "source": [
    "### **Predicting GradeClass:**"
   ]
  },
  {
   "cell_type": "code",
   "execution_count": 7,
   "id": "ac166f93",
   "metadata": {},
   "outputs": [
    {
     "name": "stdout",
     "output_type": "stream",
     "text": [
      "\u001b[1m11/11\u001b[0m \u001b[32m━━━━━━━━━━━━━━━━━━━━\u001b[0m\u001b[37m\u001b[0m \u001b[1m0s\u001b[0m 14ms/step\n"
     ]
    }
   ],
   "source": [
    "def ANN_predict(y_pred_sigmoids): # Converts the predicted binary values back into ordinal values.\n",
    "    return np.sum(y_pred_sigmoids > 0.5, axis=1)\n",
    "\n",
    "# Predicts Grade class in binary format\n",
    "y_pred_sigmoids = ANN.predict(X_test)\n",
    "\n",
    "# Converts the Grade Class values back into ordinal data\n",
    "y_pred_classes = ANN_predict(y_pred_sigmoids)\n"
   ]
  },
  {
   "cell_type": "markdown",
   "id": "71f25330",
   "metadata": {},
   "source": [
    "### **Evaluating predicted data:**\n",
    "\n",
    "#### **Evaluation:**"
   ]
  },
  {
   "cell_type": "code",
   "execution_count": 8,
   "id": "e8b273f7",
   "metadata": {},
   "outputs": [
    {
     "name": "stdout",
     "output_type": "stream",
     "text": [
      "              precision    recall  f1-score   support\n",
      "\n",
      "           0       0.75      0.55      0.63        11\n",
      "           1       0.71      0.76      0.73        38\n",
      "           2       0.61      0.75      0.67        40\n",
      "           3       0.67      0.59      0.62        51\n",
      "           4       0.95      0.94      0.94       185\n",
      "\n",
      "    accuracy                           0.82       325\n",
      "   macro avg       0.74      0.72      0.72       325\n",
      "weighted avg       0.83      0.82      0.82       325\n",
      "\n"
     ]
    }
   ],
   "source": [
    "# Evaluation of the predicted data\n",
    "print(classification_report(y_test, y_pred_classes)) #Outputs a summary of the models performance"
   ]
  },
  {
   "cell_type": "markdown",
   "id": "c2fdfa43",
   "metadata": {},
   "source": [
    "#### **Displaying evaluated data:**"
   ]
  },
  {
   "cell_type": "code",
   "execution_count": 9,
   "id": "0be388e3",
   "metadata": {},
   "outputs": [
    {
     "data": {
      "text/html": [
       "<div>\n",
       "<style scoped>\n",
       "    .dataframe tbody tr th:only-of-type {\n",
       "        vertical-align: middle;\n",
       "    }\n",
       "\n",
       "    .dataframe tbody tr th {\n",
       "        vertical-align: top;\n",
       "    }\n",
       "\n",
       "    .dataframe thead th {\n",
       "        text-align: right;\n",
       "    }\n",
       "</style>\n",
       "<table border=\"1\" class=\"dataframe\">\n",
       "  <thead>\n",
       "    <tr style=\"text-align: right;\">\n",
       "      <th></th>\n",
       "      <th>Actual</th>\n",
       "      <th>Predicted</th>\n",
       "    </tr>\n",
       "  </thead>\n",
       "  <tbody>\n",
       "    <tr>\n",
       "      <th>0</th>\n",
       "      <td>2</td>\n",
       "      <td>2</td>\n",
       "    </tr>\n",
       "    <tr>\n",
       "      <th>1</th>\n",
       "      <td>3</td>\n",
       "      <td>3</td>\n",
       "    </tr>\n",
       "    <tr>\n",
       "      <th>2</th>\n",
       "      <td>1</td>\n",
       "      <td>1</td>\n",
       "    </tr>\n",
       "    <tr>\n",
       "      <th>3</th>\n",
       "      <td>2</td>\n",
       "      <td>2</td>\n",
       "    </tr>\n",
       "    <tr>\n",
       "      <th>4</th>\n",
       "      <td>3</td>\n",
       "      <td>3</td>\n",
       "    </tr>\n",
       "    <tr>\n",
       "      <th>5</th>\n",
       "      <td>4</td>\n",
       "      <td>4</td>\n",
       "    </tr>\n",
       "    <tr>\n",
       "      <th>6</th>\n",
       "      <td>2</td>\n",
       "      <td>2</td>\n",
       "    </tr>\n",
       "    <tr>\n",
       "      <th>7</th>\n",
       "      <td>4</td>\n",
       "      <td>4</td>\n",
       "    </tr>\n",
       "    <tr>\n",
       "      <th>8</th>\n",
       "      <td>4</td>\n",
       "      <td>4</td>\n",
       "    </tr>\n",
       "    <tr>\n",
       "      <th>9</th>\n",
       "      <td>4</td>\n",
       "      <td>4</td>\n",
       "    </tr>\n",
       "  </tbody>\n",
       "</table>\n",
       "</div>"
      ],
      "text/plain": [
       "   Actual  Predicted\n",
       "0       2          2\n",
       "1       3          3\n",
       "2       1          1\n",
       "3       2          2\n",
       "4       3          3\n",
       "5       4          4\n",
       "6       2          2\n",
       "7       4          4\n",
       "8       4          4\n",
       "9       4          4"
      ]
     },
     "execution_count": 9,
     "metadata": {},
     "output_type": "execute_result"
    }
   ],
   "source": [
    "# Creates a table for the actual & predicted data\n",
    "df_results = pd.DataFrame({     \n",
    "    \"Actual\": y_test,\n",
    "    \"Predicted\": y_pred_classes\n",
    "})\n",
    "df_results.head(10)\n"
   ]
  },
  {
   "cell_type": "markdown",
   "id": "cc4c06c0",
   "metadata": {},
   "source": [
    "#### **Visualising evaluated data:**"
   ]
  },
  {
   "cell_type": "code",
   "execution_count": 10,
   "id": "32662493",
   "metadata": {},
   "outputs": [
    {
     "data": {
      "image/png": "[encoded data removed]",
      "text/plain": [
       "<Figure size 640x480 with 2 Axes>"
      ]
     },
     "metadata": {},
     "output_type": "display_data"
    }
   ],
   "source": [
    "cm = confusion_matrix(y_test, y_pred_classes)\n",
    "cm_normalized = cm.astype(\"float\") / cm.sum(axis=1)[:, np.newaxis]\n",
    "disp = ConfusionMatrixDisplay(confusion_matrix=cm_normalized, display_labels=[0, 1, 2, 3, 4])\n",
    "disp.plot(cmap=plt.cm.Blues)\n",
    "plt.title(\"Confusion Matrix: Actual vs Predicted\")\n",
    "plt.xlabel(\"Predicted\")\n",
    "plt.ylabel(\"Actual\")\n",
    "plt.show()"
   ]
  },
  {
   "cell_type": "code",
   "execution_count": 11,
   "id": "5a4b3295",
   "metadata": {},
   "outputs": [
    {
     "data": {
      "image/png": "[encoded data removed]",
      "text/plain": [
       "<Figure size 640x480 with 1 Axes>"
      ]
     },
     "metadata": {},
     "output_type": "display_data"
    }
   ],
   "source": [
    "sns.scatterplot(data=df_results, x=\"Actual\", y=\"Predicted\")\n",
    "plt.title(\"Actual vs Predicted GradeClass\")\n",
    "plt.plot([y_test.min(), y_test.max()], [y_test.min(), y_test.max()], 'r--')\n",
    "plt.show()"
   ]
  }
 ],
 "metadata": {
  "kernelspec": {
   "display_name": "base",
   "language": "python",
   "name": "python3"
  },
  "language_info": {
   "codemirror_mode": {
    "name": "ipython",
    "version": 3
   },
   "file_extension": ".py",
   "mimetype": "text/x-python",
   "name": "python",
   "nbconvert_exporter": "python",
   "pygments_lexer": "ipython3",
   "version": "3.12.7"
  }
 },
 "nbformat": 4,
 "nbformat_minor": 5
}
